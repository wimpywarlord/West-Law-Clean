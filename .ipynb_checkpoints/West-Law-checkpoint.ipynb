{
 "cells": [
  {
   "cell_type": "code",
   "execution_count": 5,
   "id": "ef8e4d7b",
   "metadata": {},
   "outputs": [],
   "source": [
    "# THIS IS THE WEST LAW NOTEBOOK"
   ]
  },
  {
   "cell_type": "code",
   "execution_count": null,
   "id": "a815025f",
   "metadata": {},
   "outputs": [],
   "source": [
    "# BELOW CODE ONLY WORKS FOR FILTERED CASES CSV FILE WITH AGE"
   ]
  },
  {
   "cell_type": "code",
   "execution_count": 6,
   "id": "de197e67",
   "metadata": {},
   "outputs": [
    {
     "name": "stdout",
     "output_type": "stream",
     "text": [
      "                                DOCUMENT INFORMATION  \\\n",
      "0  Supreme Court of Georgia. August 17, 1906 126 ...   \n",
      "1  Supreme Court of Georgia. February 19, 1906 12...   \n",
      "2  Supreme Court of Georgia. September 08, 1961 2...   \n",
      "3  Supreme Court of Georgia. August 24, 2021 312 ...   \n",
      "4  Supreme Court of Georgia. January 01, 1875 54 ...   \n",
      "\n",
      "                            PRIMARY CASE INFORMATION PRIMARY CASE DATE  \\\n",
      "0  Albright-Prior Co. v. Pacific Selling Co., 126...        1906-08-17   \n",
      "1  Patton v. Bank of La Fayette, 124 Ga. 965, 53 ...        1906-02-19   \n",
      "2  Reynolds v. Reynolds, No. 21295, 217 Ga. 234, ...        1961-09-08   \n",
      "3  Sims v. State, No. S21A0587, 312 Ga. 303, 862 ...        2021-08-24   \n",
      "4  Gholston v. Gholston, 54 Ga. 285, 1875 WL 3048...        1875-06-15   \n",
      "\n",
      "     STATE     TREATMENT                           TREATED CASE INFORMATION  \\\n",
      "0  Georgia  Overruled by   1.  W.R. Warner & Co. v. Strickland \\n87 S.E....   \n",
      "1  Georgia  Overruled by   1.  Sharpe v. Department of Transp.  \\n476 S....   \n",
      "2  Georgia  Overruled by   1.  Scherer v. Scherer \\n292 S.E.2d 662 , 249...   \n",
      "3  Georgia  Overruled by   1.  Johnson v. State  \\n885 S.E.2d 725 , 315 ...   \n",
      "4  Georgia  Overruled by   1.  Wise v. Wise \\n119 S.E. 410 , 156 Ga. 459...   \n",
      "\n",
      "  TREATED CASE DATE  date_difference  \n",
      "0        1916-01-13           3436.0  \n",
      "1        1996-10-07          33103.0  \n",
      "2        1982-06-22           7592.0  \n",
      "3        2023-03-15            568.0  \n",
      "4        1923-09-26          17634.0  \n"
     ]
    }
   ],
   "source": [
    "import pandas as pd\n",
    "\n",
    "# Specify the file path\n",
    "file_path = './Deliverables/FinalOutputWithAge(Filtered).csv'\n",
    "\n",
    "# Read the CSV file into a pandas DataFrame\n",
    "df = pd.read_csv(file_path)\n",
    "\n",
    "# Now you can work with the DataFrame 'df'\n",
    "# For example, you can print the first few rows\n",
    "print(df.head())"
   ]
  },
  {
   "cell_type": "code",
   "execution_count": 7,
   "id": "71f7f611",
   "metadata": {},
   "outputs": [],
   "source": [
    "### THIS CREATES THE COLAPPSED VERSION OF THE OUTPUT FILE"
   ]
  },
  {
   "cell_type": "code",
   "execution_count": 8,
   "id": "d1009849",
   "metadata": {},
   "outputs": [
    {
     "name": "stdout",
     "output_type": "stream",
     "text": [
      "        state    year  count\n",
      "0     Alabama  1822.0      2\n",
      "1     Alabama  1823.0      1\n",
      "2     Alabama  1826.0      1\n",
      "3     Alabama  1835.0      1\n",
      "4     Alabama  1836.0      1\n",
      "...       ...     ...    ...\n",
      "5925  Wyoming  2015.0      2\n",
      "5926  Wyoming  2016.0      2\n",
      "5927  Wyoming  2017.0      4\n",
      "5928  Wyoming  2018.0      1\n",
      "5929  Wyoming  2021.0      1\n",
      "\n",
      "[5930 rows x 3 columns]\n"
     ]
    }
   ],
   "source": [
    "# Extract state and case date columns\n",
    "df['PRIMARY CASE DATE'] = pd.to_datetime(df['PRIMARY CASE DATE'])\n",
    "\n",
    "# Extract year and state columns\n",
    "df['year'] = df['PRIMARY CASE DATE'].dt.year\n",
    "df['state'] = df['STATE']\n",
    "\n",
    "# Group by state and year, and count the number of cases for each group\n",
    "result = df.groupby(['state', 'year']).size().reset_index(name='count')\n",
    "\n",
    "# Print the result\n",
    "print(result)"
   ]
  },
  {
   "cell_type": "code",
   "execution_count": 9,
   "id": "e7d66d9d",
   "metadata": {},
   "outputs": [
    {
     "name": "stdout",
     "output_type": "stream",
     "text": [
      "File saved successfully!\n"
     ]
    }
   ],
   "source": [
    "# Save the result to a CSV file\n",
    "result.to_csv('cases_per_year_per_primay_case_date_wise_state.csv', index=False)\n",
    "\n",
    "print(\"File saved successfully!\")"
   ]
  },
  {
   "cell_type": "code",
   "execution_count": 10,
   "id": "dc9bf6c1",
   "metadata": {},
   "outputs": [],
   "source": [
    "# BELOW CODE ONLY WORKS FOR ALL CASES IRRESPECTIVE OF TREATMENT CSV FILE"
   ]
  },
  {
   "cell_type": "code",
   "execution_count": 11,
   "id": "ea347108",
   "metadata": {},
   "outputs": [
    {
     "ename": "KeyError",
     "evalue": "'PRIMARY CASE DATE'",
     "output_type": "error",
     "traceback": [
      "\u001b[0;31m---------------------------------------------------------------------------\u001b[0m",
      "\u001b[0;31mKeyError\u001b[0m                                  Traceback (most recent call last)",
      "File \u001b[0;32m~/anaconda3/lib/python3.11/site-packages/pandas/core/indexes/base.py:3653\u001b[0m, in \u001b[0;36mIndex.get_loc\u001b[0;34m(self, key)\u001b[0m\n\u001b[1;32m   3652\u001b[0m \u001b[38;5;28;01mtry\u001b[39;00m:\n\u001b[0;32m-> 3653\u001b[0m     \u001b[38;5;28;01mreturn\u001b[39;00m \u001b[38;5;28mself\u001b[39m\u001b[38;5;241m.\u001b[39m_engine\u001b[38;5;241m.\u001b[39mget_loc(casted_key)\n\u001b[1;32m   3654\u001b[0m \u001b[38;5;28;01mexcept\u001b[39;00m \u001b[38;5;167;01mKeyError\u001b[39;00m \u001b[38;5;28;01mas\u001b[39;00m err:\n",
      "File \u001b[0;32m~/anaconda3/lib/python3.11/site-packages/pandas/_libs/index.pyx:147\u001b[0m, in \u001b[0;36mpandas._libs.index.IndexEngine.get_loc\u001b[0;34m()\u001b[0m\n",
      "File \u001b[0;32m~/anaconda3/lib/python3.11/site-packages/pandas/_libs/index.pyx:176\u001b[0m, in \u001b[0;36mpandas._libs.index.IndexEngine.get_loc\u001b[0;34m()\u001b[0m\n",
      "File \u001b[0;32mpandas/_libs/hashtable_class_helper.pxi:7080\u001b[0m, in \u001b[0;36mpandas._libs.hashtable.PyObjectHashTable.get_item\u001b[0;34m()\u001b[0m\n",
      "File \u001b[0;32mpandas/_libs/hashtable_class_helper.pxi:7088\u001b[0m, in \u001b[0;36mpandas._libs.hashtable.PyObjectHashTable.get_item\u001b[0;34m()\u001b[0m\n",
      "\u001b[0;31mKeyError\u001b[0m: 'PRIMARY CASE DATE'",
      "\nThe above exception was the direct cause of the following exception:\n",
      "\u001b[0;31mKeyError\u001b[0m                                  Traceback (most recent call last)",
      "Cell \u001b[0;32mIn[11], line 8\u001b[0m\n\u001b[1;32m      5\u001b[0m df \u001b[38;5;241m=\u001b[39m pd\u001b[38;5;241m.\u001b[39mread_csv(\u001b[38;5;124m'\u001b[39m\u001b[38;5;124m./Deliverables/outputAll.csv\u001b[39m\u001b[38;5;124m'\u001b[39m, delimiter\u001b[38;5;241m=\u001b[39m\u001b[38;5;124m'\u001b[39m\u001b[38;5;130;01m\\t\u001b[39;00m\u001b[38;5;124m'\u001b[39m)\n\u001b[1;32m      7\u001b[0m \u001b[38;5;66;03m# Convert 'PRIMARY CASE DATE' column to datetime format\u001b[39;00m\n\u001b[0;32m----> 8\u001b[0m df[\u001b[38;5;124m'\u001b[39m\u001b[38;5;124mPRIMARY CASE DATE\u001b[39m\u001b[38;5;124m'\u001b[39m] \u001b[38;5;241m=\u001b[39m pd\u001b[38;5;241m.\u001b[39mto_datetime(df[\u001b[38;5;124m'\u001b[39m\u001b[38;5;124mPRIMARY CASE DATE\u001b[39m\u001b[38;5;124m'\u001b[39m], errors\u001b[38;5;241m=\u001b[39m\u001b[38;5;124m'\u001b[39m\u001b[38;5;124mcoerce\u001b[39m\u001b[38;5;124m'\u001b[39m)\n\u001b[1;32m     10\u001b[0m \u001b[38;5;66;03m# Extract year and state from the 'PRIMARY CASE DATE' and 'STATE' columns\u001b[39;00m\n\u001b[1;32m     11\u001b[0m df[\u001b[38;5;124m'\u001b[39m\u001b[38;5;124myear\u001b[39m\u001b[38;5;124m'\u001b[39m] \u001b[38;5;241m=\u001b[39m df[\u001b[38;5;124m'\u001b[39m\u001b[38;5;124mPRIMARY CASE DATE\u001b[39m\u001b[38;5;124m'\u001b[39m]\u001b[38;5;241m.\u001b[39mdt\u001b[38;5;241m.\u001b[39myear\n",
      "File \u001b[0;32m~/anaconda3/lib/python3.11/site-packages/pandas/core/frame.py:3761\u001b[0m, in \u001b[0;36mDataFrame.__getitem__\u001b[0;34m(self, key)\u001b[0m\n\u001b[1;32m   3759\u001b[0m \u001b[38;5;28;01mif\u001b[39;00m \u001b[38;5;28mself\u001b[39m\u001b[38;5;241m.\u001b[39mcolumns\u001b[38;5;241m.\u001b[39mnlevels \u001b[38;5;241m>\u001b[39m \u001b[38;5;241m1\u001b[39m:\n\u001b[1;32m   3760\u001b[0m     \u001b[38;5;28;01mreturn\u001b[39;00m \u001b[38;5;28mself\u001b[39m\u001b[38;5;241m.\u001b[39m_getitem_multilevel(key)\n\u001b[0;32m-> 3761\u001b[0m indexer \u001b[38;5;241m=\u001b[39m \u001b[38;5;28mself\u001b[39m\u001b[38;5;241m.\u001b[39mcolumns\u001b[38;5;241m.\u001b[39mget_loc(key)\n\u001b[1;32m   3762\u001b[0m \u001b[38;5;28;01mif\u001b[39;00m is_integer(indexer):\n\u001b[1;32m   3763\u001b[0m     indexer \u001b[38;5;241m=\u001b[39m [indexer]\n",
      "File \u001b[0;32m~/anaconda3/lib/python3.11/site-packages/pandas/core/indexes/base.py:3655\u001b[0m, in \u001b[0;36mIndex.get_loc\u001b[0;34m(self, key)\u001b[0m\n\u001b[1;32m   3653\u001b[0m     \u001b[38;5;28;01mreturn\u001b[39;00m \u001b[38;5;28mself\u001b[39m\u001b[38;5;241m.\u001b[39m_engine\u001b[38;5;241m.\u001b[39mget_loc(casted_key)\n\u001b[1;32m   3654\u001b[0m \u001b[38;5;28;01mexcept\u001b[39;00m \u001b[38;5;167;01mKeyError\u001b[39;00m \u001b[38;5;28;01mas\u001b[39;00m err:\n\u001b[0;32m-> 3655\u001b[0m     \u001b[38;5;28;01mraise\u001b[39;00m \u001b[38;5;167;01mKeyError\u001b[39;00m(key) \u001b[38;5;28;01mfrom\u001b[39;00m \u001b[38;5;21;01merr\u001b[39;00m\n\u001b[1;32m   3656\u001b[0m \u001b[38;5;28;01mexcept\u001b[39;00m \u001b[38;5;167;01mTypeError\u001b[39;00m:\n\u001b[1;32m   3657\u001b[0m     \u001b[38;5;66;03m# If we have a listlike key, _check_indexing_error will raise\u001b[39;00m\n\u001b[1;32m   3658\u001b[0m     \u001b[38;5;66;03m#  InvalidIndexError. Otherwise we fall through and re-raise\u001b[39;00m\n\u001b[1;32m   3659\u001b[0m     \u001b[38;5;66;03m#  the TypeError.\u001b[39;00m\n\u001b[1;32m   3660\u001b[0m     \u001b[38;5;28mself\u001b[39m\u001b[38;5;241m.\u001b[39m_check_indexing_error(key)\n",
      "\u001b[0;31mKeyError\u001b[0m: 'PRIMARY CASE DATE'"
     ]
    }
   ],
   "source": [
    "import pandas as pd\n",
    "from datetime import datetime\n",
    "\n",
    "# Load the CSV file into a DataFrame\n",
    "df = pd.read_csv('./Deliverables/outputAll.csv')\n",
    "\n",
    "# Convert 'PRIMARY CASE DATE' column to datetime format\n",
    "df['PRIMARY CASE DATE'] = pd.to_datetime(df['PRIMARY CASE DATE'], errors='coerce')\n",
    "\n",
    "# Extract year and state from the 'PRIMARY CASE DATE' and 'STATE' columns\n",
    "df['year'] = df['PRIMARY CASE DATE'].dt.year\n",
    "df['state'] = df['STATE']\n",
    "\n",
    "# Group by state and year, and count the number of cases\n",
    "result = df.groupby(['state', 'year']).size().reset_index(name='count')\n",
    "\n",
    "# Print the result\n",
    "print(result)"
   ]
  },
  {
   "cell_type": "code",
   "execution_count": null,
   "id": "2a043ff9",
   "metadata": {},
   "outputs": [],
   "source": [
    "# Save the result to a CSV file\n",
    "result.to_csv('ALL_OVERRULED_CASES.csv', index=False)\n",
    "\n",
    "print(\"File saved successfully!\")"
   ]
  },
  {
   "cell_type": "code",
   "execution_count": null,
   "id": "319629b3",
   "metadata": {},
   "outputs": [],
   "source": [
    "import pandas as pd\n",
    "from datetime import datetime\n",
    "\n",
    "# Load the CSV file into a DataFrame\n",
    "df = pd.read_csv('./Deliverables/outputAll.csv')\n",
    "\n",
    "# Convert 'PRIMARY CASE DATE' column to datetime format\n",
    "df['TREATED CASE DATE'] = pd.to_datetime(df['TREATED CASE DATE'], errors='coerce')\n",
    "\n",
    "# Extract year and state from the 'PRIMARY CASE DATE' and 'STATE' columns\n",
    "df['year'] = df['TREATED CASE DATE'].dt.year\n",
    "df['state'] = df['STATE']\n",
    "\n",
    "# Group by state and year, and count the number of cases\n",
    "result = df.groupby(['state', 'year']).size().reset_index(name='count')\n",
    "\n",
    "# Print the result\n",
    "print(result)"
   ]
  },
  {
   "cell_type": "code",
   "execution_count": null,
   "id": "fd65ea21",
   "metadata": {},
   "outputs": [],
   "source": [
    "# Save the result to a CSV file\n",
    "result.to_csv('ALL_OVERRULING_CASES.csv', index=False)\n",
    "\n",
    "print(\"File saved successfully!\")"
   ]
  }
 ],
 "metadata": {
  "kernelspec": {
   "display_name": "Python 3 (ipykernel)",
   "language": "python",
   "name": "python3"
  },
  "language_info": {
   "codemirror_mode": {
    "name": "ipython",
    "version": 3
   },
   "file_extension": ".py",
   "mimetype": "text/x-python",
   "name": "python",
   "nbconvert_exporter": "python",
   "pygments_lexer": "ipython3",
   "version": "3.11.8"
  }
 },
 "nbformat": 4,
 "nbformat_minor": 5
}

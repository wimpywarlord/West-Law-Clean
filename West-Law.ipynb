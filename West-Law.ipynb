{
 "cells": [
  {
   "cell_type": "code",
   "execution_count": 5,
   "id": "64e9f0ff",
   "metadata": {},
   "outputs": [],
   "source": [
    "import pandas as pd\n",
    "import matplotlib.pyplot as plt"
   ]
  },
  {
   "cell_type": "code",
   "execution_count": 6,
   "id": "468a945f",
   "metadata": {},
   "outputs": [],
   "source": [
    "df = pd.read_csv('./output.csv')"
   ]
  },
  {
   "cell_type": "code",
   "execution_count": 7,
   "id": "9f9f0c14",
   "metadata": {},
   "outputs": [
    {
     "data": {
      "text/html": [
       "<div>\n",
       "<style scoped>\n",
       "    .dataframe tbody tr th:only-of-type {\n",
       "        vertical-align: middle;\n",
       "    }\n",
       "\n",
       "    .dataframe tbody tr th {\n",
       "        vertical-align: top;\n",
       "    }\n",
       "\n",
       "    .dataframe thead th {\n",
       "        text-align: right;\n",
       "    }\n",
       "</style>\n",
       "<table border=\"1\" class=\"dataframe\">\n",
       "  <thead>\n",
       "    <tr style=\"text-align: right;\">\n",
       "      <th></th>\n",
       "      <th>DOCUMENT INFORMATION</th>\n",
       "      <th>PRIMARY CASE INFORMATION</th>\n",
       "      <th>PRIMARY CASE DATE</th>\n",
       "      <th>STATE</th>\n",
       "      <th>TREATMENT</th>\n",
       "      <th>TREATED CASE INFORMATION</th>\n",
       "      <th>TREATED CASE DATE</th>\n",
       "      <th>Year</th>\n",
       "    </tr>\n",
       "  </thead>\n",
       "  <tbody>\n",
       "    <tr>\n",
       "      <th>0</th>\n",
       "      <td>Supreme Court of Alabama. September 29, 2000 7...</td>\n",
       "      <td>U.S. Diagnostic, Inc. v. Shelby Radiology, P.C...</td>\n",
       "      <td>Sep. 29, 2000</td>\n",
       "      <td>Alabama</td>\n",
       "      <td>Overruled by</td>\n",
       "      <td>1.  Bruce v. Cole \\n854 So.2d 47 , Ala. , (NO...</td>\n",
       "      <td>Jan. 24, 2003</td>\n",
       "      <td>2003</td>\n",
       "    </tr>\n",
       "    <tr>\n",
       "      <th>1</th>\n",
       "      <td>Supreme Court of Alabama. June 02, 2000 775 So...</td>\n",
       "      <td>Ex parte Land, No. 1971816, 775 So. 2d 847, 20...</td>\n",
       "      <td>June 02, 2000</td>\n",
       "      <td>Alabama</td>\n",
       "      <td>Overruled by</td>\n",
       "      <td>1.  State v. Martin \\n69 So.3d 94 , Ala. , (N...</td>\n",
       "      <td>Jan. 07, 2011</td>\n",
       "      <td>2011</td>\n",
       "    </tr>\n",
       "    <tr>\n",
       "      <th>2</th>\n",
       "      <td>Supreme Court of Alabama. May 26, 2000 774 So....</td>\n",
       "      <td>Southern Energy Homes, Inc. v. Gary, No. 19722...</td>\n",
       "      <td>May 26, 2000</td>\n",
       "      <td>Alabama</td>\n",
       "      <td>Overruled by</td>\n",
       "      <td>1.  Jim Burke Automotive, Inc. v. McGrue  ...</td>\n",
       "      <td>Jan. 18, 2002</td>\n",
       "      <td>2002</td>\n",
       "    </tr>\n",
       "    <tr>\n",
       "      <th>3</th>\n",
       "      <td>Supreme Court of Alabama. November 17, 2000 78...</td>\n",
       "      <td>Mock v. Allen, No. 1980985, 783 So. 2d 828, 20...</td>\n",
       "      <td>Nov. 17, 2000</td>\n",
       "      <td>Alabama</td>\n",
       "      <td>Abrogated by</td>\n",
       "      <td>1.  Ex parte Vanderwall  \\n201 So.3d 525 , Al...</td>\n",
       "      <td>Sep. 30, 2015</td>\n",
       "      <td>2015</td>\n",
       "    </tr>\n",
       "    <tr>\n",
       "      <th>4</th>\n",
       "      <td>Supreme Court of Alabama. March 10, 2000 775 S...</td>\n",
       "      <td>Sisters of Visitation v. Cochran Plastering Co...</td>\n",
       "      <td>Mar. 10, 2000</td>\n",
       "      <td>Alabama</td>\n",
       "      <td>Abrogated by</td>\n",
       "      <td>1.  Citizens Bank v. Alafabco, Inc. \\n123 S.C...</td>\n",
       "      <td>June 02, 2003</td>\n",
       "      <td>2003</td>\n",
       "    </tr>\n",
       "  </tbody>\n",
       "</table>\n",
       "</div>"
      ],
      "text/plain": [
       "                                DOCUMENT INFORMATION  \\\n",
       "0  Supreme Court of Alabama. September 29, 2000 7...   \n",
       "1  Supreme Court of Alabama. June 02, 2000 775 So...   \n",
       "2  Supreme Court of Alabama. May 26, 2000 774 So....   \n",
       "3  Supreme Court of Alabama. November 17, 2000 78...   \n",
       "4  Supreme Court of Alabama. March 10, 2000 775 S...   \n",
       "\n",
       "                            PRIMARY CASE INFORMATION PRIMARY CASE DATE  \\\n",
       "0  U.S. Diagnostic, Inc. v. Shelby Radiology, P.C...     Sep. 29, 2000   \n",
       "1  Ex parte Land, No. 1971816, 775 So. 2d 847, 20...     June 02, 2000   \n",
       "2  Southern Energy Homes, Inc. v. Gary, No. 19722...      May 26, 2000   \n",
       "3  Mock v. Allen, No. 1980985, 783 So. 2d 828, 20...     Nov. 17, 2000   \n",
       "4  Sisters of Visitation v. Cochran Plastering Co...     Mar. 10, 2000   \n",
       "\n",
       "     STATE     TREATMENT                           TREATED CASE INFORMATION  \\\n",
       "0  Alabama  Overruled by   1.  Bruce v. Cole \\n854 So.2d 47 , Ala. , (NO...   \n",
       "1  Alabama  Overruled by   1.  State v. Martin \\n69 So.3d 94 , Ala. , (N...   \n",
       "2  Alabama  Overruled by      1.  Jim Burke Automotive, Inc. v. McGrue  ...   \n",
       "3  Alabama  Abrogated by   1.  Ex parte Vanderwall  \\n201 So.3d 525 , Al...   \n",
       "4  Alabama  Abrogated by   1.  Citizens Bank v. Alafabco, Inc. \\n123 S.C...   \n",
       "\n",
       "  TREATED CASE DATE  Year  \n",
       "0     Jan. 24, 2003  2003  \n",
       "1     Jan. 07, 2011  2011  \n",
       "2     Jan. 18, 2002  2002  \n",
       "3     Sep. 30, 2015  2015  \n",
       "4     June 02, 2003  2003  "
      ]
     },
     "execution_count": 7,
     "metadata": {},
     "output_type": "execute_result"
    }
   ],
   "source": [
    "# Extract year information\n",
    "df['Year'] = df['TREATED CASE DATE'].str.extract(r'(\\d{4})')\n",
    "df.head()"
   ]
  },
  {
   "cell_type": "code",
   "execution_count": 8,
   "id": "01df090d",
   "metadata": {},
   "outputs": [
    {
     "data": {
      "text/html": [
       "<div>\n",
       "<style scoped>\n",
       "    .dataframe tbody tr th:only-of-type {\n",
       "        vertical-align: middle;\n",
       "    }\n",
       "\n",
       "    .dataframe tbody tr th {\n",
       "        vertical-align: top;\n",
       "    }\n",
       "\n",
       "    .dataframe thead th {\n",
       "        text-align: right;\n",
       "    }\n",
       "</style>\n",
       "<table border=\"1\" class=\"dataframe\">\n",
       "  <thead>\n",
       "    <tr style=\"text-align: right;\">\n",
       "      <th></th>\n",
       "      <th>DOCUMENT INFORMATION</th>\n",
       "      <th>PRIMARY CASE INFORMATION</th>\n",
       "      <th>PRIMARY CASE DATE</th>\n",
       "      <th>STATE</th>\n",
       "      <th>TREATMENT</th>\n",
       "      <th>TREATED CASE INFORMATION</th>\n",
       "      <th>TREATED CASE DATE</th>\n",
       "      <th>Year</th>\n",
       "      <th>Occurrences</th>\n",
       "    </tr>\n",
       "  </thead>\n",
       "  <tbody>\n",
       "    <tr>\n",
       "      <th>0</th>\n",
       "      <td>Supreme Court of Alabama. September 29, 2000 7...</td>\n",
       "      <td>U.S. Diagnostic, Inc. v. Shelby Radiology, P.C...</td>\n",
       "      <td>Sep. 29, 2000</td>\n",
       "      <td>Alabama</td>\n",
       "      <td>Overruled by</td>\n",
       "      <td>1.  Bruce v. Cole \\n854 So.2d 47 , Ala. , (NO...</td>\n",
       "      <td>Jan. 24, 2003</td>\n",
       "      <td>2003</td>\n",
       "      <td>9456.0</td>\n",
       "    </tr>\n",
       "    <tr>\n",
       "      <th>1</th>\n",
       "      <td>Supreme Court of Alabama. June 02, 2000 775 So...</td>\n",
       "      <td>Ex parte Land, No. 1971816, 775 So. 2d 847, 20...</td>\n",
       "      <td>June 02, 2000</td>\n",
       "      <td>Alabama</td>\n",
       "      <td>Overruled by</td>\n",
       "      <td>1.  State v. Martin \\n69 So.3d 94 , Ala. , (N...</td>\n",
       "      <td>Jan. 07, 2011</td>\n",
       "      <td>2011</td>\n",
       "      <td>5285.0</td>\n",
       "    </tr>\n",
       "    <tr>\n",
       "      <th>2</th>\n",
       "      <td>Supreme Court of Alabama. May 26, 2000 774 So....</td>\n",
       "      <td>Southern Energy Homes, Inc. v. Gary, No. 19722...</td>\n",
       "      <td>May 26, 2000</td>\n",
       "      <td>Alabama</td>\n",
       "      <td>Overruled by</td>\n",
       "      <td>1.  Jim Burke Automotive, Inc. v. McGrue  ...</td>\n",
       "      <td>Jan. 18, 2002</td>\n",
       "      <td>2002</td>\n",
       "      <td>5766.0</td>\n",
       "    </tr>\n",
       "    <tr>\n",
       "      <th>3</th>\n",
       "      <td>Supreme Court of Alabama. November 17, 2000 78...</td>\n",
       "      <td>Mock v. Allen, No. 1980985, 783 So. 2d 828, 20...</td>\n",
       "      <td>Nov. 17, 2000</td>\n",
       "      <td>Alabama</td>\n",
       "      <td>Abrogated by</td>\n",
       "      <td>1.  Ex parte Vanderwall  \\n201 So.3d 525 , Al...</td>\n",
       "      <td>Sep. 30, 2015</td>\n",
       "      <td>2015</td>\n",
       "      <td>4511.0</td>\n",
       "    </tr>\n",
       "    <tr>\n",
       "      <th>4</th>\n",
       "      <td>Supreme Court of Alabama. March 10, 2000 775 S...</td>\n",
       "      <td>Sisters of Visitation v. Cochran Plastering Co...</td>\n",
       "      <td>Mar. 10, 2000</td>\n",
       "      <td>Alabama</td>\n",
       "      <td>Abrogated by</td>\n",
       "      <td>1.  Citizens Bank v. Alafabco, Inc. \\n123 S.C...</td>\n",
       "      <td>June 02, 2003</td>\n",
       "      <td>2003</td>\n",
       "      <td>9456.0</td>\n",
       "    </tr>\n",
       "    <tr>\n",
       "      <th>...</th>\n",
       "      <td>...</td>\n",
       "      <td>...</td>\n",
       "      <td>...</td>\n",
       "      <td>...</td>\n",
       "      <td>...</td>\n",
       "      <td>...</td>\n",
       "      <td>...</td>\n",
       "      <td>...</td>\n",
       "      <td>...</td>\n",
       "    </tr>\n",
       "    <tr>\n",
       "      <th>95</th>\n",
       "      <td>Supreme Court of Alabama. January 01, 1872 47 ...</td>\n",
       "      <td>Cowles v. Marks, 47 Ala. 612, 1872 WL 845 (Ala...</td>\n",
       "      <td>June 15, 1872</td>\n",
       "      <td>Alabama</td>\n",
       "      <td>Overruled by</td>\n",
       "      <td>1.  Marks v. Cowles \\n53 Ala. 499 , 1875 WL 1...</td>\n",
       "      <td>Dec. 01, 1875</td>\n",
       "      <td>1875</td>\n",
       "      <td>1794.0</td>\n",
       "    </tr>\n",
       "    <tr>\n",
       "      <th>96</th>\n",
       "      <td>Supreme Court of Alabama. June 01, 1872 48 Ala...</td>\n",
       "      <td>Denechaud v. Berrey, 48 Ala. 591, 1872 WL 979 ...</td>\n",
       "      <td>June 01, 1872</td>\n",
       "      <td>Alabama</td>\n",
       "      <td>Overruled by</td>\n",
       "      <td>1.  Short v. Battle \\n52 Ala. 456 , 1875 WL 9...</td>\n",
       "      <td>June 01, 1875</td>\n",
       "      <td>1875</td>\n",
       "      <td>1794.0</td>\n",
       "    </tr>\n",
       "    <tr>\n",
       "      <th>97</th>\n",
       "      <td>Supreme Court of Alabama. January 01, 1872 47 ...</td>\n",
       "      <td>Dunlap v. Newman, 47 Ala. 429, 1872 WL 821 (Al...</td>\n",
       "      <td>June 15, 1872</td>\n",
       "      <td>Alabama</td>\n",
       "      <td>Overruled by</td>\n",
       "      <td>1.  Winfrey v. Clarke \\n18 So. 141 , 107 Ala....</td>\n",
       "      <td>June 13, 1895</td>\n",
       "      <td>1895</td>\n",
       "      <td>2215.0</td>\n",
       "    </tr>\n",
       "    <tr>\n",
       "      <th>98</th>\n",
       "      <td>Supreme Court of Alabama. January 01, 1872 47 ...</td>\n",
       "      <td>Johnson v. State, 47 Ala. 9, 1872 WL 759 (Ala....</td>\n",
       "      <td>June 15, 1872</td>\n",
       "      <td>Alabama</td>\n",
       "      <td>Overruled by</td>\n",
       "      <td>1.  Mitchell v. State \\n58 Ala. 417 , 1877 WL...</td>\n",
       "      <td>Dec. 01, 1877</td>\n",
       "      <td>1877</td>\n",
       "      <td>1837.0</td>\n",
       "    </tr>\n",
       "    <tr>\n",
       "      <th>99</th>\n",
       "      <td>Supreme Court of Alabama. June 01, 1872 48 Ala...</td>\n",
       "      <td>Ex parte Candee, 48 Ala. 386, 1872 WL 936 (Ala...</td>\n",
       "      <td>June 01, 1872</td>\n",
       "      <td>Alabama</td>\n",
       "      <td>Overruled by</td>\n",
       "      <td>1.  Ex parte Harris \\n52 Ala. 87 , 1875 WL 89...</td>\n",
       "      <td>June 15, 1875</td>\n",
       "      <td>1875</td>\n",
       "      <td>1794.0</td>\n",
       "    </tr>\n",
       "  </tbody>\n",
       "</table>\n",
       "<p>100 rows × 9 columns</p>\n",
       "</div>"
      ],
      "text/plain": [
       "                                 DOCUMENT INFORMATION  \\\n",
       "0   Supreme Court of Alabama. September 29, 2000 7...   \n",
       "1   Supreme Court of Alabama. June 02, 2000 775 So...   \n",
       "2   Supreme Court of Alabama. May 26, 2000 774 So....   \n",
       "3   Supreme Court of Alabama. November 17, 2000 78...   \n",
       "4   Supreme Court of Alabama. March 10, 2000 775 S...   \n",
       "..                                                ...   \n",
       "95  Supreme Court of Alabama. January 01, 1872 47 ...   \n",
       "96  Supreme Court of Alabama. June 01, 1872 48 Ala...   \n",
       "97  Supreme Court of Alabama. January 01, 1872 47 ...   \n",
       "98  Supreme Court of Alabama. January 01, 1872 47 ...   \n",
       "99  Supreme Court of Alabama. June 01, 1872 48 Ala...   \n",
       "\n",
       "                             PRIMARY CASE INFORMATION PRIMARY CASE DATE  \\\n",
       "0   U.S. Diagnostic, Inc. v. Shelby Radiology, P.C...     Sep. 29, 2000   \n",
       "1   Ex parte Land, No. 1971816, 775 So. 2d 847, 20...     June 02, 2000   \n",
       "2   Southern Energy Homes, Inc. v. Gary, No. 19722...      May 26, 2000   \n",
       "3   Mock v. Allen, No. 1980985, 783 So. 2d 828, 20...     Nov. 17, 2000   \n",
       "4   Sisters of Visitation v. Cochran Plastering Co...     Mar. 10, 2000   \n",
       "..                                                ...               ...   \n",
       "95  Cowles v. Marks, 47 Ala. 612, 1872 WL 845 (Ala...     June 15, 1872   \n",
       "96  Denechaud v. Berrey, 48 Ala. 591, 1872 WL 979 ...     June 01, 1872   \n",
       "97  Dunlap v. Newman, 47 Ala. 429, 1872 WL 821 (Al...     June 15, 1872   \n",
       "98  Johnson v. State, 47 Ala. 9, 1872 WL 759 (Ala....     June 15, 1872   \n",
       "99  Ex parte Candee, 48 Ala. 386, 1872 WL 936 (Ala...     June 01, 1872   \n",
       "\n",
       "      STATE     TREATMENT                           TREATED CASE INFORMATION  \\\n",
       "0   Alabama  Overruled by   1.  Bruce v. Cole \\n854 So.2d 47 , Ala. , (NO...   \n",
       "1   Alabama  Overruled by   1.  State v. Martin \\n69 So.3d 94 , Ala. , (N...   \n",
       "2   Alabama  Overruled by      1.  Jim Burke Automotive, Inc. v. McGrue  ...   \n",
       "3   Alabama  Abrogated by   1.  Ex parte Vanderwall  \\n201 So.3d 525 , Al...   \n",
       "4   Alabama  Abrogated by   1.  Citizens Bank v. Alafabco, Inc. \\n123 S.C...   \n",
       "..      ...           ...                                                ...   \n",
       "95  Alabama  Overruled by   1.  Marks v. Cowles \\n53 Ala. 499 , 1875 WL 1...   \n",
       "96  Alabama  Overruled by   1.  Short v. Battle \\n52 Ala. 456 , 1875 WL 9...   \n",
       "97  Alabama  Overruled by   1.  Winfrey v. Clarke \\n18 So. 141 , 107 Ala....   \n",
       "98  Alabama  Overruled by   1.  Mitchell v. State \\n58 Ala. 417 , 1877 WL...   \n",
       "99  Alabama  Overruled by   1.  Ex parte Harris \\n52 Ala. 87 , 1875 WL 89...   \n",
       "\n",
       "   TREATED CASE DATE  Year  Occurrences  \n",
       "0      Jan. 24, 2003  2003       9456.0  \n",
       "1      Jan. 07, 2011  2011       5285.0  \n",
       "2      Jan. 18, 2002  2002       5766.0  \n",
       "3      Sep. 30, 2015  2015       4511.0  \n",
       "4      June 02, 2003  2003       9456.0  \n",
       "..               ...   ...          ...  \n",
       "95     Dec. 01, 1875  1875       1794.0  \n",
       "96     June 01, 1875  1875       1794.0  \n",
       "97     June 13, 1895  1895       2215.0  \n",
       "98     Dec. 01, 1877  1877       1837.0  \n",
       "99     June 15, 1875  1875       1794.0  \n",
       "\n",
       "[100 rows x 9 columns]"
      ]
     },
     "execution_count": 8,
     "metadata": {},
     "output_type": "execute_result"
    }
   ],
   "source": [
    "grouped_df = df.groupby('Year').size().reset_index(name='Occurrences')\n",
    "df = pd.merge(df, grouped_df, on='Year', how='left')\n",
    "df.head(100)"
   ]
  },
  {
   "cell_type": "code",
   "execution_count": 9,
   "id": "d0d885a1",
   "metadata": {},
   "outputs": [
    {
     "name": "stdout",
     "output_type": "stream",
     "text": [
      "     Year  Occurrences\n",
      "0    1798           28\n",
      "1    1804           28\n",
      "2    1809           31\n",
      "3    1812           31\n",
      "4    1819            1\n",
      "..    ...          ...\n",
      "197  2019         8884\n",
      "198  2020         6544\n",
      "199  2021         3237\n",
      "200  2022         4135\n",
      "201  2023         4050\n",
      "\n",
      "[202 rows x 2 columns]\n"
     ]
    }
   ],
   "source": [
    "# Display the result\n",
    "print(grouped_df)"
   ]
  },
  {
   "cell_type": "code",
   "execution_count": 10,
   "id": "8934d33c",
   "metadata": {},
   "outputs": [
    {
     "data": {
      "image/png": "[encoded data removed]",
      "text/plain": [
       "<Figure size 1000x600 with 1 Axes>"
      ]
     },
     "metadata": {},
     "output_type": "display_data"
    },
    {
     "data": {
      "image/png": "[encoded data removed]",
      "text/plain": [
       "<Figure size 1000x600 with 1 Axes>"
      ]
     },
     "metadata": {},
     "output_type": "display_data"
    }
   ],
   "source": [
    "# Convert 'Year' column to numeric\n",
    "grouped_df['Year'] = pd.to_numeric(grouped_df['Year'])\n",
    "\n",
    "# Sort DataFrame by 'Year'\n",
    "grouped_df = grouped_df.sort_values(by='Year')\n",
    "\n",
    "# Plot bar graph\n",
    "plt.figure(figsize=(10, 6))\n",
    "plt.bar(grouped_df['Year'], grouped_df['Occurrences'], color='skyblue')\n",
    "plt.title('Occurrences of Cases by Year')\n",
    "plt.xlabel('Year')\n",
    "plt.ylabel('Occurrences')\n",
    "plt.xticks(rotation=45)\n",
    "plt.tight_layout()\n",
    "plt.show()\n",
    "\n",
    "# Plot line chart\n",
    "plt.figure(figsize=(10, 6))\n",
    "plt.plot(grouped_df['Year'], grouped_df['Occurrences'], marker='o', color='green', linestyle='-')\n",
    "plt.title('Occurrences of Cases Over Years')\n",
    "plt.xlabel('Year')\n",
    "plt.ylabel('Occurrences')\n",
    "plt.xticks(rotation=45)\n",
    "plt.grid(True)\n",
    "plt.tight_layout()\n",
    "plt.show()"
   ]
  },
  {
   "cell_type": "code",
   "execution_count": 11,
   "id": "12cc630c",
   "metadata": {
    "scrolled": true
   },
   "outputs": [
    {
     "name": "stdout",
     "output_type": "stream",
     "text": [
      "             STATE  Occurrences\n",
      "0          Alabama  4323.446759\n",
      "1           Alaska  6092.165414\n",
      "2    Apr. 14, 1999          NaN\n",
      "3    Apr. 14, 2005          NaN\n",
      "4    Apr. 16, 2010          NaN\n",
      "..             ...          ...\n",
      "126        Virgina  4525.203947\n",
      "127     Washington  5496.744681\n",
      "128   WestVirginia  5762.998369\n",
      "129      Wisconsin  4676.809717\n",
      "130        Wyoming  6646.721925\n",
      "\n",
      "[131 rows x 2 columns]\n"
     ]
    }
   ],
   "source": [
    "# Group the DataFrame by 'Year' and 'STATE', and calculate the mean of 'Occurrences' for each group\n",
    "average_occurrences = df.groupby(['STATE'])['Occurrences'].mean().reset_index()\n",
    "\n",
    "# Display the result\n",
    "print(average_occurrences)"
   ]
  },
  {
   "cell_type": "code",
   "execution_count": 12,
   "id": "0d41dac1",
   "metadata": {},
   "outputs": [
    {
     "data": {
      "image/png": "[encoded data removed]",
      "text/plain": [
       "<Figure size 1200x600 with 1 Axes>"
      ]
     },
     "metadata": {},
     "output_type": "display_data"
    }
   ],
   "source": [
    "import matplotlib.pyplot as plt\n",
    "\n",
    "# List of states\n",
    "states_list = ['Ala.', 'Alaska', 'Ariz.', 'Ark.', 'Cal.', 'Colo.', 'Conn.', 'Fla.', 'Ga.', 'Hawai’i', \n",
    "               'Idaho', 'IL', 'Ind.', 'Iowa', 'Kan.', 'Ky.', 'La.', 'Mass.', 'Md.', 'Me.', 'Mich.', \n",
    "               'Minn.', 'Miss.', 'Mo.', 'Mont.', 'Neb.', 'Ohio', 'Okla.', 'Or.', 'Pa.', 'Tenn.', 'Tex.', \n",
    "               'Utah.', 'Va.', 'Vt.', 'Wash.', 'Wis.', 'Wyo.']\n",
    "\n",
    "# Filter DataFrame to include only the states in the list\n",
    "filtered_df = df[df['STATE'].isin(states_list)]\n",
    "\n",
    "# Group the filtered DataFrame by 'STATE' and calculate the mean of 'Occurrences' for each state\n",
    "average_occurrences = filtered_df.groupby('STATE')['Occurrences'].mean().reset_index()\n",
    "\n",
    "# Sort the DataFrame by 'Occurrences' in descending order for better visualization\n",
    "# average_occurrences = average_occurrences.sort_values(by='Occurrences', ascending=False)\n",
    "\n",
    "# Create a bar graph\n",
    "plt.figure(figsize=(12, 6))\n",
    "plt.bar(average_occurrences['STATE'], average_occurrences['Occurrences'], color='skyblue')\n",
    "plt.title('Average Occurrences per State')\n",
    "plt.xlabel('State')\n",
    "plt.ylabel('Average Occurrences')\n",
    "plt.xticks(rotation=45, ha='right')  # Rotate state labels for better readability\n",
    "plt.tight_layout()\n",
    "plt.show()"
   ]
  },
  {
   "cell_type": "code",
   "execution_count": 13,
   "id": "6cda4883",
   "metadata": {},
   "outputs": [
    {
     "data": {
      "text/html": [
       "<div>\n",
       "<style scoped>\n",
       "    .dataframe tbody tr th:only-of-type {\n",
       "        vertical-align: middle;\n",
       "    }\n",
       "\n",
       "    .dataframe tbody tr th {\n",
       "        vertical-align: top;\n",
       "    }\n",
       "\n",
       "    .dataframe thead th {\n",
       "        text-align: right;\n",
       "    }\n",
       "</style>\n",
       "<table border=\"1\" class=\"dataframe\">\n",
       "  <thead>\n",
       "    <tr style=\"text-align: right;\">\n",
       "      <th></th>\n",
       "      <th>STATE</th>\n",
       "      <th>Occurrences</th>\n",
       "    </tr>\n",
       "  </thead>\n",
       "  <tbody>\n",
       "    <tr>\n",
       "      <th>0</th>\n",
       "      <td>Alaska</td>\n",
       "      <td>6092.165414</td>\n",
       "    </tr>\n",
       "    <tr>\n",
       "      <th>1</th>\n",
       "      <td>Idaho</td>\n",
       "      <td>5498.029255</td>\n",
       "    </tr>\n",
       "    <tr>\n",
       "      <th>2</th>\n",
       "      <td>Iowa</td>\n",
       "      <td>5026.204991</td>\n",
       "    </tr>\n",
       "    <tr>\n",
       "      <th>3</th>\n",
       "      <td>Ohio</td>\n",
       "      <td>5290.954813</td>\n",
       "    </tr>\n",
       "  </tbody>\n",
       "</table>\n",
       "</div>"
      ],
      "text/plain": [
       "    STATE  Occurrences\n",
       "0  Alaska  6092.165414\n",
       "1   Idaho  5498.029255\n",
       "2    Iowa  5026.204991\n",
       "3    Ohio  5290.954813"
      ]
     },
     "execution_count": 13,
     "metadata": {},
     "output_type": "execute_result"
    }
   ],
   "source": [
    "average_occurrences.head(100)"
   ]
  },
  {
   "cell_type": "code",
   "execution_count": 15,
   "id": "ab34d546",
   "metadata": {},
   "outputs": [],
   "source": [
    "# # Create a line plot with each state having a different color line\n",
    "# plt.figure(figsize=(10, 6))  # Adjust figure size if needed\n",
    "\n",
    "# # Iterate over each state and plot its line with a unique color\n",
    "# for state in average_occurrences['STATE'].unique():\n",
    "#     state_data = average_occurrences[average_occurrences['STATE'] == \"Cal.\"]\n",
    "#     plt.plot(state_data['Year'], state_data['Occurrences'], label=state)\n",
    "\n",
    "# plt.title('Average Occurrences per Year for California')\n",
    "# plt.xlabel('Year')\n",
    "# plt.ylabel('Average Occurrences')\n",
    "# # plt.legend(loc='upper right', bbox_to_anchor=(1.25, 1))\n",
    "# plt.grid(True)\n",
    "# plt.tight_layout()\n",
    "# plt.show()"
   ]
  },
  {
   "cell_type": "code",
   "execution_count": 23,
   "id": "c7188875",
   "metadata": {},
   "outputs": [],
   "source": [
    "df2 = pd.read_csv('./FinalOutputWithAge.csv')"
   ]
  },
  {
   "cell_type": "code",
   "execution_count": 24,
   "id": "60ed1fea",
   "metadata": {},
   "outputs": [],
   "source": [
    "stateFolderNames = [\n",
    "    \"Alabama\",\n",
    "    \"Connecticut\",\n",
    "    \"Illinois\",\n",
    "    \"Maine\",\n",
    "    \"Missouri\", \n",
    "    \"NewMexico\", \n",
    "    \"Oklahomasup\",\n",
    "    \"Tennessee\",\n",
    "    \"Washington\",\n",
    "    \"Alaska\",\n",
    "    \"Delaware\",\n",
    "    \"Indiana\", \n",
    "    \"Maryland\",\n",
    "    \"Montana\",\n",
    "    \"NewYork\",\n",
    "    \"Oregon\",\n",
    "    \"Texascri\",\n",
    "    \"WestVirginia\",\n",
    "    \"Arizona\",\n",
    "    \"Florida\",\n",
    "    \"Iowa\",\n",
    "    \"Massachusetts\",\n",
    "    \"Nebraska\",\n",
    "    \"NorthCarolina\",\n",
    "    \"Pennsylvania\",\n",
    "    \"Texassup\",\n",
    "    \"Wisconsin\",\n",
    "    \"Arkansas\",\n",
    "    \"Georgia\",\n",
    "    \"Kansas\",\n",
    "    \"Michigan\",\n",
    "    \"Nevada\",\n",
    "    \"NorthDakota\",\n",
    "    \"Rhode\",\n",
    "    \"Utah\",\n",
    "    \"Wyoming\",\n",
    "    \"California\",\n",
    "    \"Hawaii\",\n",
    "    \"Kentucky\",\n",
    "    \"Minnesota\",\n",
    "    \"NewHampshire\",\n",
    "    \"Ohio\",\n",
    "    \"SouthCarolina\",\n",
    "    \"Vermont\",\n",
    "    \"Colorado\",\n",
    "    \"Idaho\",\n",
    "    \"Louisiana\",\n",
    "    \"Mississippi\",\n",
    "    \"NewJersey\",\n",
    "    \"Oklahomacri\",\n",
    "    \"SouthDakota\",\n",
    "    \"Virgina\",\n",
    "]"
   ]
  },
  {
   "cell_type": "code",
   "execution_count": 25,
   "id": "8dfacb78",
   "metadata": {},
   "outputs": [],
   "source": [
    "# Define a mapping between state names in your data and the standard abbreviations\n",
    "state_mapping = {\n",
    "    \"Alabama\": \"AL\",\n",
    "    \"Alaska\": \"AK\",\n",
    "    \"Arizona\": \"AZ\",\n",
    "    \"Arkansas\": \"AR\",\n",
    "    \"California\": \"CA\",\n",
    "    \"Colorado\": \"CO\",\n",
    "    \"Connecticut\": \"CT\",\n",
    "    \"Delaware\": \"DE\",\n",
    "    \"Florida\": \"FL\",\n",
    "    \"Georgia\": \"GA\",\n",
    "    \"Hawaii\": \"HI\",\n",
    "    \"Idaho\": \"ID\",\n",
    "    \"Illinois\": \"IL\",\n",
    "    \"Indiana\": \"IN\",\n",
    "    \"Iowa\": \"IA\",\n",
    "    \"Kansas\": \"KS\",\n",
    "    \"Kentucky\": \"KY\",\n",
    "    \"Louisiana\": \"LA\",\n",
    "    \"Maine\": \"ME\",\n",
    "    \"Maryland\": \"MD\",\n",
    "    \"Massachusetts\": \"MA\",\n",
    "    \"Michigan\": \"MI\",\n",
    "    \"Minnesota\": \"MN\",\n",
    "    \"Mississippi\": \"MS\",\n",
    "    \"Missouri\": \"MO\",\n",
    "    \"Montana\": \"MT\",\n",
    "    \"Nebraska\": \"NE\",\n",
    "    \"Nevada\": \"NV\",\n",
    "    \"NewHampshire\": \"NH\",\n",
    "    \"NewJersey\": \"NJ\",\n",
    "    \"NewMexico\": \"NM\",\n",
    "    \"NewYork\": \"NY\",\n",
    "    \"NorthCarolina\": \"NC\",\n",
    "    \"NorthDakota\": \"ND\",\n",
    "    \"Ohio\": \"OH\",\n",
    "    \"Oklahomacri\": \"OK\",\n",
    "    \"Oklahomasup\": \"OK\",\n",
    "    \"Oregon\": \"OR\",\n",
    "    \"Pennsylvania\": \"PA\",\n",
    "    \"RhodeIsland\": \"RI\",\n",
    "    \"SouthCarolina\": \"SC\",\n",
    "    \"SouthDakota\": \"SD\",\n",
    "    \"Tennessee\": \"TN\",\n",
    "    \"Texas\": \"TX\",\n",
    "    \"Texascri\": \"TX\",\n",
    "    \"Texassup\": \"TX\",\n",
    "    \"Utah\": \"UT\",\n",
    "    \"Vermont\": \"VT\",\n",
    "    \"Virginia\": \"VA\",\n",
    "    \"Washington\": \"WA\",\n",
    "    \"West Virginia\": \"WV\",\n",
    "    \"Wisconsin\": \"WI\",\n",
    "    \"Wyoming\": \"WY\"\n",
    "}"
   ]
  },
  {
   "cell_type": "code",
   "execution_count": 29,
   "id": "bac725fb",
   "metadata": {},
   "outputs": [
    {
     "name": "stdout",
     "output_type": "stream",
     "text": [
      "STATE\n",
      "AK     4274.375940\n",
      "AL     6487.667439\n",
      "AR     5779.573864\n",
      "AZ     7193.354949\n",
      "CA    11374.503215\n",
      "CO     9908.550802\n",
      "CT     8399.222642\n",
      "DE     5272.534091\n",
      "FL     6278.030303\n",
      "GA     7047.584955\n",
      "HI     6324.669492\n",
      "IA     9340.139286\n",
      "ID     7751.877333\n",
      "IL    10063.244656\n",
      "IN     6999.268750\n",
      "KS     7459.759067\n",
      "KY     9660.236667\n",
      "LA     8452.241379\n",
      "MA    10450.002564\n",
      "MD    11995.713592\n",
      "ME     8376.652695\n",
      "MI    10002.157658\n",
      "MN     9415.038251\n",
      "MO     7471.481879\n",
      "MS     7124.029412\n",
      "MT     5603.825939\n",
      "NC     9386.296736\n",
      "ND     8870.375000\n",
      "NE     6875.550918\n",
      "NH     8661.149068\n",
      "NJ     8275.380000\n",
      "NM     6741.443262\n",
      "NV     7223.535411\n",
      "NY    11116.929577\n",
      "OH     7966.644401\n",
      "OK     5822.393922\n",
      "OR     9804.698603\n",
      "PA     7979.002967\n",
      "SC    10339.561739\n",
      "SD     8799.161905\n",
      "TN    11028.540373\n",
      "TX     6274.064719\n",
      "UT     7626.589226\n",
      "VT     8993.155440\n",
      "WA    10009.243972\n",
      "WI     7634.259109\n",
      "WY     4748.304813\n",
      "Name: date_difference, dtype: float64\n"
     ]
    },
    {
     "name": "stderr",
     "output_type": "stream",
     "text": [
      "/var/folders/l7/0mnc3_p96d5ghbdx4jtrtvdw0000gr/T/ipykernel_22979/1300852777.py:5: SettingWithCopyWarning:\n",
      "\n",
      "\n",
      "A value is trying to be set on a copy of a slice from a DataFrame.\n",
      "Try using .loc[row_indexer,col_indexer] = value instead\n",
      "\n",
      "See the caveats in the documentation: https://pandas.pydata.org/pandas-docs/stable/user_guide/indexing.html#returning-a-view-versus-a-copy\n",
      "\n"
     ]
    }
   ],
   "source": [
    "# Assuming you have already read your CSV file into a DataFrame named 'df'\n",
    "\n",
    "# Group by 'STATE' and calculate the mean of 'date_difference'\n",
    "df_filtered = df2[df2['STATE'].isin(stateFolderNames)]\n",
    "df_filtered['STATE'] = df_filtered['STATE'].map(state_mapping)\n",
    "average_age_by_state = df_filtered.groupby('STATE')['date_difference'].mean()\n",
    "\n",
    "print(average_age_by_state)"
   ]
  },
  {
   "cell_type": "code",
   "execution_count": 31,
   "id": "01e7f063",
   "metadata": {},
   "outputs": [
    {
     "data": {
      "application/vnd.plotly.v1+json": {
       "config": {
        "plotlyServerURL": "https://plot.ly"
       },
       "data": [
        {
         "coloraxis": "coloraxis",
         "geo": "geo",
         "hovertemplate": "STATE=%{location}<br>Average Age=%{z}<extra></extra>",
         "locationmode": "USA-states",
         "locations": [
          "AK",
          "AL",
          "AR",
          "AZ",
          "CA",
          "CO",
          "CT",
          "DE",
          "FL",
          "GA",
          "HI",
          "IA",
          "ID",
          "IL",
          "IN",
          "KS",
          "KY",
          "LA",
          "MA",
          "MD",
          "ME",
          "MI",
          "MN",
          "MO",
          "MS",
          "MT",
          "NC",
          "ND",
          "NE",
          "NH",
          "NJ",
          "NM",
          "NV",
          "NY",
          "OH",
          "OK",
          "OR",
          "PA",
          "SC",
          "SD",
          "TN",
          "TX",
          "UT",
          "VT",
          "WA",
          "WI",
          "WY"
         ],
         "name": "",
         "type": "choropleth",
         "z": [
          4274.375939849624,
          6487.667439165701,
          5779.573863636364,
          7193.3549488054605,
          11374.503215434084,
          9908.550802139038,
          8399.222641509434,
          5272.534090909091,
          6278.030303030303,
          7047.58495460441,
          6324.669491525424,
          9340.139285714286,
          7751.877333333333,
          10063.244655581948,
          6999.26875,
          7459.759067357513,
          9660.236666666666,
          8452.241379310344,
          10450.002564102564,
          11995.713592233009,
          8376.652694610779,
          10002.157657657657,
          9415.03825136612,
          7471.481879194631,
          7124.029411764706,
          5603.825938566553,
          9386.296735905045,
          8870.375,
          6875.550918196995,
          8661.149068322982,
          8275.38,
          6741.443262411348,
          7223.535410764873,
          11116.929577464789,
          7966.6444007858545,
          5822.39392236535,
          9804.698602794411,
          7979.002967359051,
          10339.561739130435,
          8799.161904761904,
          11028.540372670808,
          6274.064719478882,
          7626.589225589226,
          8993.155440414508,
          10009.243971631206,
          7634.259109311741,
          4748.304812834224
         ]
        }
       ],
       "layout": {
        "coloraxis": {
         "cmax": 11995.713592233009,
         "cmin": 0,
         "colorbar": {
          "title": {
           "text": "Average Age"
          }
         },
         "colorscale": [
          [
           0,
           "rgb(247,251,255)"
          ],
          [
           0.125,
           "rgb(222,235,247)"
          ],
          [
           0.25,
           "rgb(198,219,239)"
          ],
          [
           0.375,
           "rgb(158,202,225)"
          ],
          [
           0.5,
           "rgb(107,174,214)"
          ],
          [
           0.625,
           "rgb(66,146,198)"
          ],
          [
           0.75,
           "rgb(33,113,181)"
          ],
          [
           0.875,
           "rgb(8,81,156)"
          ],
          [
           1,
           "rgb(8,48,107)"
          ]
         ]
        },
        "geo": {
         "center": {},
         "domain": {
          "x": [
           0,
           1
          ],
          "y": [
           0,
           1
          ]
         },
         "scope": "usa"
        },
        "legend": {
         "tracegroupgap": 0
        },
        "margin": {
         "t": 60
        },
        "template": {
         "data": {
          "bar": [
           {
            "error_x": {
             "color": "#2a3f5f"
            },
            "error_y": {
             "color": "#2a3f5f"
            },
            "marker": {
             "line": {
              "color": "#E5ECF6",
              "width": 0.5
             },
             "pattern": {
              "fillmode": "overlay",
              "size": 10,
              "solidity": 0.2
             }
            },
            "type": "bar"
           }
          ],
          "barpolar": [
           {
            "marker": {
             "line": {
              "color": "#E5ECF6",
              "width": 0.5
             },
             "pattern": {
              "fillmode": "overlay",
              "size": 10,
              "solidity": 0.2
             }
            },
            "type": "barpolar"
           }
          ],
          "carpet": [
           {
            "aaxis": {
             "endlinecolor": "#2a3f5f",
             "gridcolor": "white",
             "linecolor": "white",
             "minorgridcolor": "white",
             "startlinecolor": "#2a3f5f"
            },
            "baxis": {
             "endlinecolor": "#2a3f5f",
             "gridcolor": "white",
             "linecolor": "white",
             "minorgridcolor": "white",
             "startlinecolor": "#2a3f5f"
            },
            "type": "carpet"
           }
          ],
          "choropleth": [
           {
            "colorbar": {
             "outlinewidth": 0,
             "ticks": ""
            },
            "type": "choropleth"
           }
          ],
          "contour": [
           {
            "colorbar": {
             "outlinewidth": 0,
             "ticks": ""
            },
            "colorscale": [
             [
              0,
              "#0d0887"
             ],
             [
              0.1111111111111111,
              "#46039f"
             ],
             [
              0.2222222222222222,
              "#7201a8"
             ],
             [
              0.3333333333333333,
              "#9c179e"
             ],
             [
              0.4444444444444444,
              "#bd3786"
             ],
             [
              0.5555555555555556,
              "#d8576b"
             ],
             [
              0.6666666666666666,
              "#ed7953"
             ],
             [
              0.7777777777777778,
              "#fb9f3a"
             ],
             [
              0.8888888888888888,
              "#fdca26"
             ],
             [
              1,
              "#f0f921"
             ]
            ],
            "type": "contour"
           }
          ],
          "contourcarpet": [
           {
            "colorbar": {
             "outlinewidth": 0,
             "ticks": ""
            },
            "type": "contourcarpet"
           }
          ],
          "heatmap": [
           {
            "colorbar": {
             "outlinewidth": 0,
             "ticks": ""
            },
            "colorscale": [
             [
              0,
              "#0d0887"
             ],
             [
              0.1111111111111111,
              "#46039f"
             ],
             [
              0.2222222222222222,
              "#7201a8"
             ],
             [
              0.3333333333333333,
              "#9c179e"
             ],
             [
              0.4444444444444444,
              "#bd3786"
             ],
             [
              0.5555555555555556,
              "#d8576b"
             ],
             [
              0.6666666666666666,
              "#ed7953"
             ],
             [
              0.7777777777777778,
              "#fb9f3a"
             ],
             [
              0.8888888888888888,
              "#fdca26"
             ],
             [
              1,
              "#f0f921"
             ]
            ],
            "type": "heatmap"
           }
          ],
          "heatmapgl": [
           {
            "colorbar": {
             "outlinewidth": 0,
             "ticks": ""
            },
            "colorscale": [
             [
              0,
              "#0d0887"
             ],
             [
              0.1111111111111111,
              "#46039f"
             ],
             [
              0.2222222222222222,
              "#7201a8"
             ],
             [
              0.3333333333333333,
              "#9c179e"
             ],
             [
              0.4444444444444444,
              "#bd3786"
             ],
             [
              0.5555555555555556,
              "#d8576b"
             ],
             [
              0.6666666666666666,
              "#ed7953"
             ],
             [
              0.7777777777777778,
              "#fb9f3a"
             ],
             [
              0.8888888888888888,
              "#fdca26"
             ],
             [
              1,
              "#f0f921"
             ]
            ],
            "type": "heatmapgl"
           }
          ],
          "histogram": [
           {
            "marker": {
             "pattern": {
              "fillmode": "overlay",
              "size": 10,
              "solidity": 0.2
             }
            },
            "type": "histogram"
           }
          ],
          "histogram2d": [
           {
            "colorbar": {
             "outlinewidth": 0,
             "ticks": ""
            },
            "colorscale": [
             [
              0,
              "#0d0887"
             ],
             [
              0.1111111111111111,
              "#46039f"
             ],
             [
              0.2222222222222222,
              "#7201a8"
             ],
             [
              0.3333333333333333,
              "#9c179e"
             ],
             [
              0.4444444444444444,
              "#bd3786"
             ],
             [
              0.5555555555555556,
              "#d8576b"
             ],
             [
              0.6666666666666666,
              "#ed7953"
             ],
             [
              0.7777777777777778,
              "#fb9f3a"
             ],
             [
              0.8888888888888888,
              "#fdca26"
             ],
             [
              1,
              "#f0f921"
             ]
            ],
            "type": "histogram2d"
           }
          ],
          "histogram2dcontour": [
           {
            "colorbar": {
             "outlinewidth": 0,
             "ticks": ""
            },
            "colorscale": [
             [
              0,
              "#0d0887"
             ],
             [
              0.1111111111111111,
              "#46039f"
             ],
             [
              0.2222222222222222,
              "#7201a8"
             ],
             [
              0.3333333333333333,
              "#9c179e"
             ],
             [
              0.4444444444444444,
              "#bd3786"
             ],
             [
              0.5555555555555556,
              "#d8576b"
             ],
             [
              0.6666666666666666,
              "#ed7953"
             ],
             [
              0.7777777777777778,
              "#fb9f3a"
             ],
             [
              0.8888888888888888,
              "#fdca26"
             ],
             [
              1,
              "#f0f921"
             ]
            ],
            "type": "histogram2dcontour"
           }
          ],
          "mesh3d": [
           {
            "colorbar": {
             "outlinewidth": 0,
             "ticks": ""
            },
            "type": "mesh3d"
           }
          ],
          "parcoords": [
           {
            "line": {
             "colorbar": {
              "outlinewidth": 0,
              "ticks": ""
             }
            },
            "type": "parcoords"
           }
          ],
          "pie": [
           {
            "automargin": true,
            "type": "pie"
           }
          ],
          "scatter": [
           {
            "fillpattern": {
             "fillmode": "overlay",
             "size": 10,
             "solidity": 0.2
            },
            "type": "scatter"
           }
          ],
          "scatter3d": [
           {
            "line": {
             "colorbar": {
              "outlinewidth": 0,
              "ticks": ""
             }
            },
            "marker": {
             "colorbar": {
              "outlinewidth": 0,
              "ticks": ""
             }
            },
            "type": "scatter3d"
           }
          ],
          "scattercarpet": [
           {
            "marker": {
             "colorbar": {
              "outlinewidth": 0,
              "ticks": ""
             }
            },
            "type": "scattercarpet"
           }
          ],
          "scattergeo": [
           {
            "marker": {
             "colorbar": {
              "outlinewidth": 0,
              "ticks": ""
             }
            },
            "type": "scattergeo"
           }
          ],
          "scattergl": [
           {
            "marker": {
             "colorbar": {
              "outlinewidth": 0,
              "ticks": ""
             }
            },
            "type": "scattergl"
           }
          ],
          "scattermapbox": [
           {
            "marker": {
             "colorbar": {
              "outlinewidth": 0,
              "ticks": ""
             }
            },
            "type": "scattermapbox"
           }
          ],
          "scatterpolar": [
           {
            "marker": {
             "colorbar": {
              "outlinewidth": 0,
              "ticks": ""
             }
            },
            "type": "scatterpolar"
           }
          ],
          "scatterpolargl": [
           {
            "marker": {
             "colorbar": {
              "outlinewidth": 0,
              "ticks": ""
             }
            },
            "type": "scatterpolargl"
           }
          ],
          "scatterternary": [
           {
            "marker": {
             "colorbar": {
              "outlinewidth": 0,
              "ticks": ""
             }
            },
            "type": "scatterternary"
           }
          ],
          "surface": [
           {
            "colorbar": {
             "outlinewidth": 0,
             "ticks": ""
            },
            "colorscale": [
             [
              0,
              "#0d0887"
             ],
             [
              0.1111111111111111,
              "#46039f"
             ],
             [
              0.2222222222222222,
              "#7201a8"
             ],
             [
              0.3333333333333333,
              "#9c179e"
             ],
             [
              0.4444444444444444,
              "#bd3786"
             ],
             [
              0.5555555555555556,
              "#d8576b"
             ],
             [
              0.6666666666666666,
              "#ed7953"
             ],
             [
              0.7777777777777778,
              "#fb9f3a"
             ],
             [
              0.8888888888888888,
              "#fdca26"
             ],
             [
              1,
              "#f0f921"
             ]
            ],
            "type": "surface"
           }
          ],
          "table": [
           {
            "cells": {
             "fill": {
              "color": "#EBF0F8"
             },
             "line": {
              "color": "white"
             }
            },
            "header": {
             "fill": {
              "color": "#C8D4E3"
             },
             "line": {
              "color": "white"
             }
            },
            "type": "table"
           }
          ]
         },
         "layout": {
          "annotationdefaults": {
           "arrowcolor": "#2a3f5f",
           "arrowhead": 0,
           "arrowwidth": 1
          },
          "autotypenumbers": "strict",
          "coloraxis": {
           "colorbar": {
            "outlinewidth": 0,
            "ticks": ""
           }
          },
          "colorscale": {
           "diverging": [
            [
             0,
             "#8e0152"
            ],
            [
             0.1,
             "#c51b7d"
            ],
            [
             0.2,
             "#de77ae"
            ],
            [
             0.3,
             "#f1b6da"
            ],
            [
             0.4,
             "#fde0ef"
            ],
            [
             0.5,
             "#f7f7f7"
            ],
            [
             0.6,
             "#e6f5d0"
            ],
            [
             0.7,
             "#b8e186"
            ],
            [
             0.8,
             "#7fbc41"
            ],
            [
             0.9,
             "#4d9221"
            ],
            [
             1,
             "#276419"
            ]
           ],
           "sequential": [
            [
             0,
             "#0d0887"
            ],
            [
             0.1111111111111111,
             "#46039f"
            ],
            [
             0.2222222222222222,
             "#7201a8"
            ],
            [
             0.3333333333333333,
             "#9c179e"
            ],
            [
             0.4444444444444444,
             "#bd3786"
            ],
            [
             0.5555555555555556,
             "#d8576b"
            ],
            [
             0.6666666666666666,
             "#ed7953"
            ],
            [
             0.7777777777777778,
             "#fb9f3a"
            ],
            [
             0.8888888888888888,
             "#fdca26"
            ],
            [
             1,
             "#f0f921"
            ]
           ],
           "sequentialminus": [
            [
             0,
             "#0d0887"
            ],
            [
             0.1111111111111111,
             "#46039f"
            ],
            [
             0.2222222222222222,
             "#7201a8"
            ],
            [
             0.3333333333333333,
             "#9c179e"
            ],
            [
             0.4444444444444444,
             "#bd3786"
            ],
            [
             0.5555555555555556,
             "#d8576b"
            ],
            [
             0.6666666666666666,
             "#ed7953"
            ],
            [
             0.7777777777777778,
             "#fb9f3a"
            ],
            [
             0.8888888888888888,
             "#fdca26"
            ],
            [
             1,
             "#f0f921"
            ]
           ]
          },
          "colorway": [
           "#636efa",
           "#EF553B",
           "#00cc96",
           "#ab63fa",
           "#FFA15A",
           "#19d3f3",
           "#FF6692",
           "#B6E880",
           "#FF97FF",
           "#FECB52"
          ],
          "font": {
           "color": "#2a3f5f"
          },
          "geo": {
           "bgcolor": "white",
           "lakecolor": "white",
           "landcolor": "#E5ECF6",
           "showlakes": true,
           "showland": true,
           "subunitcolor": "white"
          },
          "hoverlabel": {
           "align": "left"
          },
          "hovermode": "closest",
          "mapbox": {
           "style": "light"
          },
          "paper_bgcolor": "white",
          "plot_bgcolor": "#E5ECF6",
          "polar": {
           "angularaxis": {
            "gridcolor": "white",
            "linecolor": "white",
            "ticks": ""
           },
           "bgcolor": "#E5ECF6",
           "radialaxis": {
            "gridcolor": "white",
            "linecolor": "white",
            "ticks": ""
           }
          },
          "scene": {
           "xaxis": {
            "backgroundcolor": "#E5ECF6",
            "gridcolor": "white",
            "gridwidth": 2,
            "linecolor": "white",
            "showbackground": true,
            "ticks": "",
            "zerolinecolor": "white"
           },
           "yaxis": {
            "backgroundcolor": "#E5ECF6",
            "gridcolor": "white",
            "gridwidth": 2,
            "linecolor": "white",
            "showbackground": true,
            "ticks": "",
            "zerolinecolor": "white"
           },
           "zaxis": {
            "backgroundcolor": "#E5ECF6",
            "gridcolor": "white",
            "gridwidth": 2,
            "linecolor": "white",
            "showbackground": true,
            "ticks": "",
            "zerolinecolor": "white"
           }
          },
          "shapedefaults": {
           "line": {
            "color": "#2a3f5f"
           }
          },
          "ternary": {
           "aaxis": {
            "gridcolor": "white",
            "linecolor": "white",
            "ticks": ""
           },
           "baxis": {
            "gridcolor": "white",
            "linecolor": "white",
            "ticks": ""
           },
           "bgcolor": "#E5ECF6",
           "caxis": {
            "gridcolor": "white",
            "linecolor": "white",
            "ticks": ""
           }
          },
          "title": {
           "x": 0.05
          },
          "xaxis": {
           "automargin": true,
           "gridcolor": "white",
           "linecolor": "white",
           "ticks": "",
           "title": {
            "standoff": 15
           },
           "zerolinecolor": "white",
           "zerolinewidth": 2
          },
          "yaxis": {
           "automargin": true,
           "gridcolor": "white",
           "linecolor": "white",
           "ticks": "",
           "title": {
            "standoff": 15
           },
           "zerolinecolor": "white",
           "zerolinewidth": 2
          }
         }
        },
        "title": {
         "text": "Average Age by State in the USA"
        }
       }
      },
      "text/html": [
       "<div>                            <div id=\"bfd82fc8-4bd7-4a3d-9336-0166ae203d99\" class=\"plotly-graph-div\" style=\"height:525px; width:100%;\"></div>            <script type=\"text/javascript\">                require([\"plotly\"], function(Plotly) {                    window.PLOTLYENV=window.PLOTLYENV || {};                                    if (document.getElementById(\"bfd82fc8-4bd7-4a3d-9336-0166ae203d99\")) {                    Plotly.newPlot(                        \"bfd82fc8-4bd7-4a3d-9336-0166ae203d99\",                        [{\"coloraxis\":\"coloraxis\",\"geo\":\"geo\",\"hovertemplate\":\"STATE=%{location}<br>Average Age=%{z}<extra></extra>\",\"locationmode\":\"USA-states\",\"locations\":[\"AK\",\"AL\",\"AR\",\"AZ\",\"CA\",\"CO\",\"CT\",\"DE\",\"FL\",\"GA\",\"HI\",\"IA\",\"ID\",\"IL\",\"IN\",\"KS\",\"KY\",\"LA\",\"MA\",\"MD\",\"ME\",\"MI\",\"MN\",\"MO\",\"MS\",\"MT\",\"NC\",\"ND\",\"NE\",\"NH\",\"NJ\",\"NM\",\"NV\",\"NY\",\"OH\",\"OK\",\"OR\",\"PA\",\"SC\",\"SD\",\"TN\",\"TX\",\"UT\",\"VT\",\"WA\",\"WI\",\"WY\"],\"name\":\"\",\"z\":[4274.375939849624,6487.667439165701,5779.573863636364,7193.3549488054605,11374.503215434084,9908.550802139038,8399.222641509434,5272.534090909091,6278.030303030303,7047.58495460441,6324.669491525424,9340.139285714286,7751.877333333333,10063.244655581948,6999.26875,7459.759067357513,9660.236666666666,8452.241379310344,10450.002564102564,11995.713592233009,8376.652694610779,10002.157657657657,9415.03825136612,7471.481879194631,7124.029411764706,5603.825938566553,9386.296735905045,8870.375,6875.550918196995,8661.149068322982,8275.38,6741.443262411348,7223.535410764873,11116.929577464789,7966.6444007858545,5822.39392236535,9804.698602794411,7979.002967359051,10339.561739130435,8799.161904761904,11028.540372670808,6274.064719478882,7626.589225589226,8993.155440414508,10009.243971631206,7634.259109311741,4748.304812834224],\"type\":\"choropleth\"}],                        {\"template\":{\"data\":{\"histogram2dcontour\":[{\"type\":\"histogram2dcontour\",\"colorbar\":{\"outlinewidth\":0,\"ticks\":\"\"},\"colorscale\":[[0.0,\"#0d0887\"],[0.1111111111111111,\"#46039f\"],[0.2222222222222222,\"#7201a8\"],[0.3333333333333333,\"#9c179e\"],[0.4444444444444444,\"#bd3786\"],[0.5555555555555556,\"#d8576b\"],[0.6666666666666666,\"#ed7953\"],[0.7777777777777778,\"#fb9f3a\"],[0.8888888888888888,\"#fdca26\"],[1.0,\"#f0f921\"]]}],\"choropleth\":[{\"type\":\"choropleth\",\"colorbar\":{\"outlinewidth\":0,\"ticks\":\"\"}}],\"histogram2d\":[{\"type\":\"histogram2d\",\"colorbar\":{\"outlinewidth\":0,\"ticks\":\"\"},\"colorscale\":[[0.0,\"#0d0887\"],[0.1111111111111111,\"#46039f\"],[0.2222222222222222,\"#7201a8\"],[0.3333333333333333,\"#9c179e\"],[0.4444444444444444,\"#bd3786\"],[0.5555555555555556,\"#d8576b\"],[0.6666666666666666,\"#ed7953\"],[0.7777777777777778,\"#fb9f3a\"],[0.8888888888888888,\"#fdca26\"],[1.0,\"#f0f921\"]]}],\"heatmap\":[{\"type\":\"heatmap\",\"colorbar\":{\"outlinewidth\":0,\"ticks\":\"\"},\"colorscale\":[[0.0,\"#0d0887\"],[0.1111111111111111,\"#46039f\"],[0.2222222222222222,\"#7201a8\"],[0.3333333333333333,\"#9c179e\"],[0.4444444444444444,\"#bd3786\"],[0.5555555555555556,\"#d8576b\"],[0.6666666666666666,\"#ed7953\"],[0.7777777777777778,\"#fb9f3a\"],[0.8888888888888888,\"#fdca26\"],[1.0,\"#f0f921\"]]}],\"heatmapgl\":[{\"type\":\"heatmapgl\",\"colorbar\":{\"outlinewidth\":0,\"ticks\":\"\"},\"colorscale\":[[0.0,\"#0d0887\"],[0.1111111111111111,\"#46039f\"],[0.2222222222222222,\"#7201a8\"],[0.3333333333333333,\"#9c179e\"],[0.4444444444444444,\"#bd3786\"],[0.5555555555555556,\"#d8576b\"],[0.6666666666666666,\"#ed7953\"],[0.7777777777777778,\"#fb9f3a\"],[0.8888888888888888,\"#fdca26\"],[1.0,\"#f0f921\"]]}],\"contourcarpet\":[{\"type\":\"contourcarpet\",\"colorbar\":{\"outlinewidth\":0,\"ticks\":\"\"}}],\"contour\":[{\"type\":\"contour\",\"colorbar\":{\"outlinewidth\":0,\"ticks\":\"\"},\"colorscale\":[[0.0,\"#0d0887\"],[0.1111111111111111,\"#46039f\"],[0.2222222222222222,\"#7201a8\"],[0.3333333333333333,\"#9c179e\"],[0.4444444444444444,\"#bd3786\"],[0.5555555555555556,\"#d8576b\"],[0.6666666666666666,\"#ed7953\"],[0.7777777777777778,\"#fb9f3a\"],[0.8888888888888888,\"#fdca26\"],[1.0,\"#f0f921\"]]}],\"surface\":[{\"type\":\"surface\",\"colorbar\":{\"outlinewidth\":0,\"ticks\":\"\"},\"colorscale\":[[0.0,\"#0d0887\"],[0.1111111111111111,\"#46039f\"],[0.2222222222222222,\"#7201a8\"],[0.3333333333333333,\"#9c179e\"],[0.4444444444444444,\"#bd3786\"],[0.5555555555555556,\"#d8576b\"],[0.6666666666666666,\"#ed7953\"],[0.7777777777777778,\"#fb9f3a\"],[0.8888888888888888,\"#fdca26\"],[1.0,\"#f0f921\"]]}],\"mesh3d\":[{\"type\":\"mesh3d\",\"colorbar\":{\"outlinewidth\":0,\"ticks\":\"\"}}],\"scatter\":[{\"fillpattern\":{\"fillmode\":\"overlay\",\"size\":10,\"solidity\":0.2},\"type\":\"scatter\"}],\"parcoords\":[{\"type\":\"parcoords\",\"line\":{\"colorbar\":{\"outlinewidth\":0,\"ticks\":\"\"}}}],\"scatterpolargl\":[{\"type\":\"scatterpolargl\",\"marker\":{\"colorbar\":{\"outlinewidth\":0,\"ticks\":\"\"}}}],\"bar\":[{\"error_x\":{\"color\":\"#2a3f5f\"},\"error_y\":{\"color\":\"#2a3f5f\"},\"marker\":{\"line\":{\"color\":\"#E5ECF6\",\"width\":0.5},\"pattern\":{\"fillmode\":\"overlay\",\"size\":10,\"solidity\":0.2}},\"type\":\"bar\"}],\"scattergeo\":[{\"type\":\"scattergeo\",\"marker\":{\"colorbar\":{\"outlinewidth\":0,\"ticks\":\"\"}}}],\"scatterpolar\":[{\"type\":\"scatterpolar\",\"marker\":{\"colorbar\":{\"outlinewidth\":0,\"ticks\":\"\"}}}],\"histogram\":[{\"marker\":{\"pattern\":{\"fillmode\":\"overlay\",\"size\":10,\"solidity\":0.2}},\"type\":\"histogram\"}],\"scattergl\":[{\"type\":\"scattergl\",\"marker\":{\"colorbar\":{\"outlinewidth\":0,\"ticks\":\"\"}}}],\"scatter3d\":[{\"type\":\"scatter3d\",\"line\":{\"colorbar\":{\"outlinewidth\":0,\"ticks\":\"\"}},\"marker\":{\"colorbar\":{\"outlinewidth\":0,\"ticks\":\"\"}}}],\"scattermapbox\":[{\"type\":\"scattermapbox\",\"marker\":{\"colorbar\":{\"outlinewidth\":0,\"ticks\":\"\"}}}],\"scatterternary\":[{\"type\":\"scatterternary\",\"marker\":{\"colorbar\":{\"outlinewidth\":0,\"ticks\":\"\"}}}],\"scattercarpet\":[{\"type\":\"scattercarpet\",\"marker\":{\"colorbar\":{\"outlinewidth\":0,\"ticks\":\"\"}}}],\"carpet\":[{\"aaxis\":{\"endlinecolor\":\"#2a3f5f\",\"gridcolor\":\"white\",\"linecolor\":\"white\",\"minorgridcolor\":\"white\",\"startlinecolor\":\"#2a3f5f\"},\"baxis\":{\"endlinecolor\":\"#2a3f5f\",\"gridcolor\":\"white\",\"linecolor\":\"white\",\"minorgridcolor\":\"white\",\"startlinecolor\":\"#2a3f5f\"},\"type\":\"carpet\"}],\"table\":[{\"cells\":{\"fill\":{\"color\":\"#EBF0F8\"},\"line\":{\"color\":\"white\"}},\"header\":{\"fill\":{\"color\":\"#C8D4E3\"},\"line\":{\"color\":\"white\"}},\"type\":\"table\"}],\"barpolar\":[{\"marker\":{\"line\":{\"color\":\"#E5ECF6\",\"width\":0.5},\"pattern\":{\"fillmode\":\"overlay\",\"size\":10,\"solidity\":0.2}},\"type\":\"barpolar\"}],\"pie\":[{\"automargin\":true,\"type\":\"pie\"}]},\"layout\":{\"autotypenumbers\":\"strict\",\"colorway\":[\"#636efa\",\"#EF553B\",\"#00cc96\",\"#ab63fa\",\"#FFA15A\",\"#19d3f3\",\"#FF6692\",\"#B6E880\",\"#FF97FF\",\"#FECB52\"],\"font\":{\"color\":\"#2a3f5f\"},\"hovermode\":\"closest\",\"hoverlabel\":{\"align\":\"left\"},\"paper_bgcolor\":\"white\",\"plot_bgcolor\":\"#E5ECF6\",\"polar\":{\"bgcolor\":\"#E5ECF6\",\"angularaxis\":{\"gridcolor\":\"white\",\"linecolor\":\"white\",\"ticks\":\"\"},\"radialaxis\":{\"gridcolor\":\"white\",\"linecolor\":\"white\",\"ticks\":\"\"}},\"ternary\":{\"bgcolor\":\"#E5ECF6\",\"aaxis\":{\"gridcolor\":\"white\",\"linecolor\":\"white\",\"ticks\":\"\"},\"baxis\":{\"gridcolor\":\"white\",\"linecolor\":\"white\",\"ticks\":\"\"},\"caxis\":{\"gridcolor\":\"white\",\"linecolor\":\"white\",\"ticks\":\"\"}},\"coloraxis\":{\"colorbar\":{\"outlinewidth\":0,\"ticks\":\"\"}},\"colorscale\":{\"sequential\":[[0.0,\"#0d0887\"],[0.1111111111111111,\"#46039f\"],[0.2222222222222222,\"#7201a8\"],[0.3333333333333333,\"#9c179e\"],[0.4444444444444444,\"#bd3786\"],[0.5555555555555556,\"#d8576b\"],[0.6666666666666666,\"#ed7953\"],[0.7777777777777778,\"#fb9f3a\"],[0.8888888888888888,\"#fdca26\"],[1.0,\"#f0f921\"]],\"sequentialminus\":[[0.0,\"#0d0887\"],[0.1111111111111111,\"#46039f\"],[0.2222222222222222,\"#7201a8\"],[0.3333333333333333,\"#9c179e\"],[0.4444444444444444,\"#bd3786\"],[0.5555555555555556,\"#d8576b\"],[0.6666666666666666,\"#ed7953\"],[0.7777777777777778,\"#fb9f3a\"],[0.8888888888888888,\"#fdca26\"],[1.0,\"#f0f921\"]],\"diverging\":[[0,\"#8e0152\"],[0.1,\"#c51b7d\"],[0.2,\"#de77ae\"],[0.3,\"#f1b6da\"],[0.4,\"#fde0ef\"],[0.5,\"#f7f7f7\"],[0.6,\"#e6f5d0\"],[0.7,\"#b8e186\"],[0.8,\"#7fbc41\"],[0.9,\"#4d9221\"],[1,\"#276419\"]]},\"xaxis\":{\"gridcolor\":\"white\",\"linecolor\":\"white\",\"ticks\":\"\",\"title\":{\"standoff\":15},\"zerolinecolor\":\"white\",\"automargin\":true,\"zerolinewidth\":2},\"yaxis\":{\"gridcolor\":\"white\",\"linecolor\":\"white\",\"ticks\":\"\",\"title\":{\"standoff\":15},\"zerolinecolor\":\"white\",\"automargin\":true,\"zerolinewidth\":2},\"scene\":{\"xaxis\":{\"backgroundcolor\":\"#E5ECF6\",\"gridcolor\":\"white\",\"linecolor\":\"white\",\"showbackground\":true,\"ticks\":\"\",\"zerolinecolor\":\"white\",\"gridwidth\":2},\"yaxis\":{\"backgroundcolor\":\"#E5ECF6\",\"gridcolor\":\"white\",\"linecolor\":\"white\",\"showbackground\":true,\"ticks\":\"\",\"zerolinecolor\":\"white\",\"gridwidth\":2},\"zaxis\":{\"backgroundcolor\":\"#E5ECF6\",\"gridcolor\":\"white\",\"linecolor\":\"white\",\"showbackground\":true,\"ticks\":\"\",\"zerolinecolor\":\"white\",\"gridwidth\":2}},\"shapedefaults\":{\"line\":{\"color\":\"#2a3f5f\"}},\"annotationdefaults\":{\"arrowcolor\":\"#2a3f5f\",\"arrowhead\":0,\"arrowwidth\":1},\"geo\":{\"bgcolor\":\"white\",\"landcolor\":\"#E5ECF6\",\"subunitcolor\":\"white\",\"showland\":true,\"showlakes\":true,\"lakecolor\":\"white\"},\"title\":{\"x\":0.05},\"mapbox\":{\"style\":\"light\"}}},\"geo\":{\"domain\":{\"x\":[0.0,1.0],\"y\":[0.0,1.0]},\"center\":{},\"scope\":\"usa\"},\"coloraxis\":{\"colorbar\":{\"title\":{\"text\":\"Average Age\"}},\"colorscale\":[[0.0,\"rgb(247,251,255)\"],[0.125,\"rgb(222,235,247)\"],[0.25,\"rgb(198,219,239)\"],[0.375,\"rgb(158,202,225)\"],[0.5,\"rgb(107,174,214)\"],[0.625,\"rgb(66,146,198)\"],[0.75,\"rgb(33,113,181)\"],[0.875,\"rgb(8,81,156)\"],[1.0,\"rgb(8,48,107)\"]],\"cmin\":0,\"cmax\":11995.713592233009},\"legend\":{\"tracegroupgap\":0},\"margin\":{\"t\":60},\"title\":{\"text\":\"Average Age by State in the USA\"}},                        {\"responsive\": true}                    ).then(function(){\n",
       "                            \n",
       "var gd = document.getElementById('bfd82fc8-4bd7-4a3d-9336-0166ae203d99');\n",
       "var x = new MutationObserver(function (mutations, observer) {{\n",
       "        var display = window.getComputedStyle(gd).display;\n",
       "        if (!display || display === 'none') {{\n",
       "            console.log([gd, 'removed!']);\n",
       "            Plotly.purge(gd);\n",
       "            observer.disconnect();\n",
       "        }}\n",
       "}});\n",
       "\n",
       "// Listen for the removal of the full notebook cells\n",
       "var notebookContainer = gd.closest('#notebook-container');\n",
       "if (notebookContainer) {{\n",
       "    x.observe(notebookContainer, {childList: true});\n",
       "}}\n",
       "\n",
       "// Listen for the clearing of the current output cell\n",
       "var outputEl = gd.closest('.output');\n",
       "if (outputEl) {{\n",
       "    x.observe(outputEl, {childList: true});\n",
       "}}\n",
       "\n",
       "                        })                };                });            </script>        </div>"
      ]
     },
     "metadata": {},
     "output_type": "display_data"
    }
   ],
   "source": [
    "import plotly.express as px\n",
    "\n",
    "# Assuming you have already calculated the average age by state and stored it in a DataFrame named 'average_age_by_state'\n",
    "\n",
    "# Load the US states GeoJSON file\n",
    "geojson_url = 'https://raw.githubusercontent.com/python-visualization/folium/master/tests/us-states.json'\n",
    "geojson = px.data.election()\n",
    "\n",
    "# Create the choropleth map\n",
    "fig = px.choropleth(average_age_by_state, \n",
    "                    locations=average_age_by_state.index, \n",
    "                    locationmode='USA-states',\n",
    "                    color='date_difference', \n",
    "                    color_continuous_scale='blues',  # Adjust the color scale here\n",
    "                    range_color=(0, average_age_by_state.max()),  # Adjust the range if needed\n",
    "                    scope=\"usa\",\n",
    "                    labels={'date_difference':'Average Age'}\n",
    "                   )\n",
    "\n",
    "# Customize the layout\n",
    "fig.update_layout(title='Average Age by State in the USA')\n",
    "\n",
    "# Show the plot\n",
    "fig.show()"
   ]
  },
  {
   "cell_type": "code",
   "execution_count": 35,
   "id": "99c79a56",
   "metadata": {},
   "outputs": [],
   "source": [
    "df3 = pd.read_csv('./output.csv')"
   ]
  },
  {
   "cell_type": "code",
   "execution_count": 61,
   "id": "29f3e8cf",
   "metadata": {},
   "outputs": [
    {
     "data": {
      "text/plain": [
       "0"
      ]
     },
     "execution_count": 61,
     "metadata": {},
     "output_type": "execute_result"
    }
   ],
   "source": [
    "arizona_data = df3[df3[\"PRIMARY CASE INFORMATION\"] == 'State v. Andriano, No. CR-05-0005-AP, 215 Ariz. 497, 161 P.3d 540, 508 Ariz. Adv. Rep. 3, 2007 WL 1964809 (Ariz. July 09, 2007)']\n",
    "arizona_data.shape[0]\n"
   ]
  },
  {
   "cell_type": "code",
   "execution_count": 48,
   "id": "dd0e8e19",
   "metadata": {},
   "outputs": [
    {
     "data": {
      "text/plain": [
       "9962"
      ]
     },
     "execution_count": 48,
     "metadata": {},
     "output_type": "execute_result"
    }
   ],
   "source": [
    "arizona_data.shape[0]"
   ]
  },
  {
   "cell_type": "code",
   "execution_count": 58,
   "id": "52f0b167",
   "metadata": {},
   "outputs": [
    {
     "data": {
      "text/html": [
       "<div>\n",
       "<style scoped>\n",
       "    .dataframe tbody tr th:only-of-type {\n",
       "        vertical-align: middle;\n",
       "    }\n",
       "\n",
       "    .dataframe tbody tr th {\n",
       "        vertical-align: top;\n",
       "    }\n",
       "\n",
       "    .dataframe thead th {\n",
       "        text-align: right;\n",
       "    }\n",
       "</style>\n",
       "<table border=\"1\" class=\"dataframe\">\n",
       "  <thead>\n",
       "    <tr style=\"text-align: right;\">\n",
       "      <th></th>\n",
       "      <th>DOCUMENT INFORMATION</th>\n",
       "      <th>PRIMARY CASE INFORMATION</th>\n",
       "      <th>PRIMARY CASE DATE</th>\n",
       "      <th>STATE</th>\n",
       "      <th>TREATMENT</th>\n",
       "      <th>TREATED CASE INFORMATION</th>\n",
       "      <th>TREATED CASE DATE</th>\n",
       "    </tr>\n",
       "  </thead>\n",
       "  <tbody>\n",
       "    <tr>\n",
       "      <th>8436</th>\n",
       "      <td>Banc. May 27, 1997 189 Ariz. 113 938 P.2d 1114...</td>\n",
       "      <td>Munroe v. Galati, No. CV-96-0522-PR, 189 Ariz....</td>\n",
       "      <td>May 27, 1997</td>\n",
       "      <td>Arizona</td>\n",
       "      <td>Abrogated by</td>\n",
       "      <td>1.  Geier v. American Honda Motor Co., Inc. \\...</td>\n",
       "      <td>May 22, 2000</td>\n",
       "    </tr>\n",
       "    <tr>\n",
       "      <th>8437</th>\n",
       "      <td>Supreme Court of Arizona. May 05, 1947 65 Ariz...</td>\n",
       "      <td>Jacob v. Cherry, No. 4906, 65 Ariz. 307, 180 P...</td>\n",
       "      <td>May 05, 1947</td>\n",
       "      <td>Arizona</td>\n",
       "      <td>Abrogated by</td>\n",
       "      <td>1.  Sertich v. Moorman \\n783 P.2d 1199 , 162 ...</td>\n",
       "      <td>Nov. 14, 1989</td>\n",
       "    </tr>\n",
       "    <tr>\n",
       "      <th>8438</th>\n",
       "      <td>Supreme Court of Arizona. April 07, 1947 65 Ar...</td>\n",
       "      <td>Worsham v. Bauchard, No. 4907, 65 Ariz. 243, 1...</td>\n",
       "      <td>Apr. 07, 1947</td>\n",
       "      <td>Arizona</td>\n",
       "      <td>Overruled by</td>\n",
       "      <td>1.  Prudential Ins. Co. of America v. O’Grady...</td>\n",
       "      <td>Oct. 30, 1964</td>\n",
       "    </tr>\n",
       "    <tr>\n",
       "      <th>8439</th>\n",
       "      <td>Supreme Court of Arizona. March 12, 1947 65 Ar...</td>\n",
       "      <td>Duhame v. State Tax Commission, No. 4948, 65 A...</td>\n",
       "      <td>Mar. 12, 1947</td>\n",
       "      <td>Arizona</td>\n",
       "      <td>Overruled by</td>\n",
       "      <td>1.  Valencia Energy Co. v. Arizona Dept. of R...</td>\n",
       "      <td>May 19, 1998</td>\n",
       "    </tr>\n",
       "    <tr>\n",
       "      <th>8440</th>\n",
       "      <td>Supreme Court of Arizona. December 01, 1947 66...</td>\n",
       "      <td>Butane Corp. v. Kirby, No. 4893, 66 Ariz. 272,...</td>\n",
       "      <td>Dec. 01, 1947</td>\n",
       "      <td>Arizona</td>\n",
       "      <td>Overruled by</td>\n",
       "      <td>1.  Anderson v. Morgan \\n241 P.2d 786 , 73 Ar...</td>\n",
       "      <td>Mar. 17, 1952</td>\n",
       "    </tr>\n",
       "    <tr>\n",
       "      <th>...</th>\n",
       "      <td>...</td>\n",
       "      <td>...</td>\n",
       "      <td>...</td>\n",
       "      <td>...</td>\n",
       "      <td>...</td>\n",
       "      <td>...</td>\n",
       "      <td>...</td>\n",
       "    </tr>\n",
       "    <tr>\n",
       "      <th>8724</th>\n",
       "      <td>Banc. May 06, 1965 98 Ariz. 2 401 P.2d 404\\nEx...</td>\n",
       "      <td>State v. Simoneau, No. 1429, 98 Ariz. 2, 401 P...</td>\n",
       "      <td>May 06, 1965</td>\n",
       "      <td>Arizona</td>\n",
       "      <td>Abrogated by</td>\n",
       "      <td>1.  State v. Bush  \\n423 P.3d 370 , 244 Ariz....</td>\n",
       "      <td>Aug. 16, 2018</td>\n",
       "    </tr>\n",
       "    <tr>\n",
       "      <th>8725</th>\n",
       "      <td>Division. October 28, 1965 99 Ariz. 106 407 P....</td>\n",
       "      <td>State v. Smith, No. 1552, 99 Ariz. 106, 407 P....</td>\n",
       "      <td>Oct. 28, 1965</td>\n",
       "      <td>Arizona</td>\n",
       "      <td>Overruled by</td>\n",
       "      <td>1.  Smith v. Eyman \\n451 P.2d 877 , 104 Ariz....</td>\n",
       "      <td>Mar. 19, 1969</td>\n",
       "    </tr>\n",
       "    <tr>\n",
       "      <th>8726</th>\n",
       "      <td>Division. June 30, 1965 98 Ariz. 258 403 P.2d ...</td>\n",
       "      <td>Davila v. Industrial Commission, No. 8155, 98 ...</td>\n",
       "      <td>June 30, 1965</td>\n",
       "      <td>Arizona</td>\n",
       "      <td>Overruled by</td>\n",
       "      <td>1.  Parsons v. Bekins Freight \\n493 P.2d 913 ...</td>\n",
       "      <td>Feb. 09, 1972</td>\n",
       "    </tr>\n",
       "    <tr>\n",
       "      <th>8727</th>\n",
       "      <td>Division. March 10, 1965 97 Ariz. 275 399 P.2d...</td>\n",
       "      <td>Martinez v. Industrial Commission, No. 8049, 9...</td>\n",
       "      <td>Mar. 10, 1965</td>\n",
       "      <td>Arizona</td>\n",
       "      <td>Overruled by</td>\n",
       "      <td>1.  Parsons v. Bekins Freight \\n493 P.2d 913 ...</td>\n",
       "      <td>Feb. 09, 1972</td>\n",
       "    </tr>\n",
       "    <tr>\n",
       "      <th>8728</th>\n",
       "      <td>Banc. July 13, 1976 113 Ariz. 329 553 P.2d 120...</td>\n",
       "      <td>State v. Brosie, No. 3355-PR, 113 Ariz. 329, 5...</td>\n",
       "      <td>July 13, 1976</td>\n",
       "      <td>Arizona</td>\n",
       "      <td>Overruled by</td>\n",
       "      <td>1.  State v. Chavez \\n693 P.2d 893 , 143 Ariz...</td>\n",
       "      <td>Dec. 12, 1984</td>\n",
       "    </tr>\n",
       "  </tbody>\n",
       "</table>\n",
       "<p>293 rows × 7 columns</p>\n",
       "</div>"
      ],
      "text/plain": [
       "                                   DOCUMENT INFORMATION  \\\n",
       "8436  Banc. May 27, 1997 189 Ariz. 113 938 P.2d 1114...   \n",
       "8437  Supreme Court of Arizona. May 05, 1947 65 Ariz...   \n",
       "8438  Supreme Court of Arizona. April 07, 1947 65 Ar...   \n",
       "8439  Supreme Court of Arizona. March 12, 1947 65 Ar...   \n",
       "8440  Supreme Court of Arizona. December 01, 1947 66...   \n",
       "...                                                 ...   \n",
       "8724  Banc. May 06, 1965 98 Ariz. 2 401 P.2d 404\\nEx...   \n",
       "8725  Division. October 28, 1965 99 Ariz. 106 407 P....   \n",
       "8726  Division. June 30, 1965 98 Ariz. 258 403 P.2d ...   \n",
       "8727  Division. March 10, 1965 97 Ariz. 275 399 P.2d...   \n",
       "8728  Banc. July 13, 1976 113 Ariz. 329 553 P.2d 120...   \n",
       "\n",
       "                               PRIMARY CASE INFORMATION PRIMARY CASE DATE  \\\n",
       "8436  Munroe v. Galati, No. CV-96-0522-PR, 189 Ariz....      May 27, 1997   \n",
       "8437  Jacob v. Cherry, No. 4906, 65 Ariz. 307, 180 P...      May 05, 1947   \n",
       "8438  Worsham v. Bauchard, No. 4907, 65 Ariz. 243, 1...     Apr. 07, 1947   \n",
       "8439  Duhame v. State Tax Commission, No. 4948, 65 A...     Mar. 12, 1947   \n",
       "8440  Butane Corp. v. Kirby, No. 4893, 66 Ariz. 272,...     Dec. 01, 1947   \n",
       "...                                                 ...               ...   \n",
       "8724  State v. Simoneau, No. 1429, 98 Ariz. 2, 401 P...      May 06, 1965   \n",
       "8725  State v. Smith, No. 1552, 99 Ariz. 106, 407 P....     Oct. 28, 1965   \n",
       "8726  Davila v. Industrial Commission, No. 8155, 98 ...     June 30, 1965   \n",
       "8727  Martinez v. Industrial Commission, No. 8049, 9...     Mar. 10, 1965   \n",
       "8728  State v. Brosie, No. 3355-PR, 113 Ariz. 329, 5...     July 13, 1976   \n",
       "\n",
       "        STATE     TREATMENT  \\\n",
       "8436  Arizona  Abrogated by   \n",
       "8437  Arizona  Abrogated by   \n",
       "8438  Arizona  Overruled by   \n",
       "8439  Arizona  Overruled by   \n",
       "8440  Arizona  Overruled by   \n",
       "...       ...           ...   \n",
       "8724  Arizona  Abrogated by   \n",
       "8725  Arizona  Overruled by   \n",
       "8726  Arizona  Overruled by   \n",
       "8727  Arizona  Overruled by   \n",
       "8728  Arizona  Overruled by   \n",
       "\n",
       "                               TREATED CASE INFORMATION TREATED CASE DATE  \n",
       "8436   1.  Geier v. American Honda Motor Co., Inc. \\...      May 22, 2000  \n",
       "8437   1.  Sertich v. Moorman \\n783 P.2d 1199 , 162 ...     Nov. 14, 1989  \n",
       "8438   1.  Prudential Ins. Co. of America v. O’Grady...     Oct. 30, 1964  \n",
       "8439   1.  Valencia Energy Co. v. Arizona Dept. of R...      May 19, 1998  \n",
       "8440   1.  Anderson v. Morgan \\n241 P.2d 786 , 73 Ar...     Mar. 17, 1952  \n",
       "...                                                 ...               ...  \n",
       "8724   1.  State v. Bush  \\n423 P.3d 370 , 244 Ariz....     Aug. 16, 2018  \n",
       "8725   1.  Smith v. Eyman \\n451 P.2d 877 , 104 Ariz....     Mar. 19, 1969  \n",
       "8726   1.  Parsons v. Bekins Freight \\n493 P.2d 913 ...     Feb. 09, 1972  \n",
       "8727   1.  Parsons v. Bekins Freight \\n493 P.2d 913 ...     Feb. 09, 1972  \n",
       "8728   1.  State v. Chavez \\n693 P.2d 893 , 143 Ariz...     Dec. 12, 1984  \n",
       "\n",
       "[293 rows x 7 columns]"
      ]
     },
     "execution_count": 58,
     "metadata": {},
     "output_type": "execute_result"
    }
   ],
   "source": [
    "# # Find duplicate rows within the Arizona data subset\n",
    "# arizona_duplicate_rows = arizona_data[arizona_data.duplicated()]\n",
    "\n",
    "# # Get the count of duplicate rows in Arizona data\n",
    "# arizona_duplicate_count = arizona_duplicate_rows.shape[0]\n",
    "\n",
    "# print(\"Number of duplicate rows in Arizona data:\", arizona_duplicate_count)\n",
    "arizona_data.drop_duplicates()"
   ]
  },
  {
   "cell_type": "code",
   "execution_count": 56,
   "id": "817f6f6b",
   "metadata": {},
   "outputs": [
    {
     "data": {
      "text/plain": [
       "9962"
      ]
     },
     "execution_count": 56,
     "metadata": {},
     "output_type": "execute_result"
    }
   ],
   "source": [
    "arizona_data.shape[0]"
   ]
  }
 ],
 "metadata": {
  "kernelspec": {
   "display_name": "Python 3 (ipykernel)",
   "language": "python",
   "name": "python3"
  },
  "language_info": {
   "codemirror_mode": {
    "name": "ipython",
    "version": 3
   },
   "file_extension": ".py",
   "mimetype": "text/x-python",
   "name": "python",
   "nbconvert_exporter": "python",
   "pygments_lexer": "ipython3",
   "version": "3.11.8"
  }
 },
 "nbformat": 4,
 "nbformat_minor": 5
}
